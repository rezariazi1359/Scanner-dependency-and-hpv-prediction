{
 "cells": [
  {
   "cell_type": "code",
   "execution_count": 1,
   "metadata": {},
   "outputs": [],
   "source": [
    "import os\n",
    "import glob\n",
    "import dicom_contour.contour as dcm\n",
    "from dicom_contour.contour import *\n",
    "import SimpleITK as sitk\n",
    "import pandas as pd\n",
    "import nrrd\n",
    "import pickle"
   ]
  },
  {
   "cell_type": "code",
   "execution_count": 3,
   "metadata": {},
   "outputs": [],
   "source": []
  },
  {
   "cell_type": "code",
   "execution_count": 10,
   "metadata": {},
   "outputs": [
    {
     "data": {
      "image/png": "[encoded data removed]",
      "text/plain": [
       "<Figure size 432x288 with 1 Axes>"
      ]
     },
     "metadata": {
      "needs_background": "light"
     },
     "output_type": "display_data"
    }
   ],
   "source": [
    "plt.imshow(image[:,:,102], cmap = 'gray')\n",
    "plt.show()"
   ]
  },
  {
   "cell_type": "code",
   "execution_count": 11,
   "metadata": {},
   "outputs": [
    {
     "ename": "ModuleNotFoundError",
     "evalue": "No module named 'plastimatch'",
     "output_type": "error",
     "traceback": [
      "\u001b[0;31m---------------------------------------------------------------------------\u001b[0m",
      "\u001b[0;31mModuleNotFoundError\u001b[0m                       Traceback (most recent call last)",
      "\u001b[0;32m<ipython-input-11-c77b294026d5>\u001b[0m in \u001b[0;36m<module>\u001b[0;34m\u001b[0m\n\u001b[0;32m----> 1\u001b[0;31m \u001b[0;32mimport\u001b[0m \u001b[0mplastimatch\u001b[0m\u001b[0;34m\u001b[0m\u001b[0;34m\u001b[0m\u001b[0m\n\u001b[0m",
      "\u001b[0;31mModuleNotFoundError\u001b[0m: No module named 'plastimatch'"
     ]
    }
   ],
   "source": []
  },
  {
   "cell_type": "code",
   "execution_count": 2,
   "metadata": {},
   "outputs": [
    {
     "data": {
      "text/plain": [
       "(1921,)"
      ]
     },
     "execution_count": 2,
     "metadata": {},
     "output_type": "execute_result"
    }
   ],
   "source": [
    "da = pd.read_csv('/cluster/home/rreiazi/radcure_DA_labels.csv')\n",
    "no_da = da.loc[da['has_artifact'] == 0, 'patient_id'].to_list()\n",
    "weak_da = da.loc[da['has_artifact'] == 1, 'patient_id'].to_list()\n",
    "less_da = weak_da + no_da\n",
    "np.shape(less_da)"
   ]
  },
  {
   "cell_type": "code",
   "execution_count": 3,
   "metadata": {},
   "outputs": [],
   "source": [
    "rad_tox = pd.read_csv('radioTox.csv')\n",
    "tox_ids = rad_tox['ID'].to_list()"
   ]
  },
  {
   "cell_type": "code",
   "execution_count": 4,
   "metadata": {},
   "outputs": [
    {
     "name": "stdout",
     "output_type": "stream",
     "text": [
      "/cluster/projects/radiomics/Temp/OARS050120/masks/4291001.nrrd\n",
      "(500, 500, 118)\n",
      "/cluster/projects/radiomics/Temp/MandReza/masks/4291001.nrrd\n",
      "(500, 500, 118)\n",
      "/cluster/projects/radiomics/Temp/OARS050120/masks/4075766.nrrd\n",
      "(500, 500, 122)\n",
      "/cluster/projects/radiomics/Temp/MandReza/masks/4075766.nrrd\n",
      "(500, 500, 122)\n"
     ]
    }
   ],
   "source": [
    "import os\n",
    "\n",
    "path_mask_joe = r'/cluster/projects/radiomics/Temp/OARS050120/masks'\n",
    "path_save = r'/cluster/projects/radiomics/Temp/MandReza/masks'\n",
    "for i in range(100,150,25): \n",
    "    fileName = os.listdir(path_mask_joe)[i]    \n",
    "    file  = os.path.join(path_mask_joe, fileName)\n",
    "    print(file)\n",
    "    data,d = nrrd.read(file)\n",
    "    print(data.shape)\n",
    "    data[data!=7] = 0\n",
    "    data[data ==1] = 1\n",
    "    fileNew = os.path.join(path_save,fileName)\n",
    "    print(fileNew)\n",
    "    nrrd.write(fileNew,data,header=None)\n",
    "    data1,d = nrrd.read(fileNew)\n",
    "    print(data1.shape)"
   ]
  },
  {
   "cell_type": "code",
   "execution_count": 5,
   "metadata": {},
   "outputs": [],
   "source": [
    "# np.where(data == 7)\n",
    "# plt.imshow(data1[:,:,85])\n",
    "# plt.show()"
   ]
  },
  {
   "cell_type": "code",
   "execution_count": 6,
   "metadata": {},
   "outputs": [],
   "source": [
    "# plt.imshow(img[:,:,95])\n",
    "# plt.show()"
   ]
  },
  {
   "cell_type": "code",
   "execution_count": 7,
   "metadata": {},
   "outputs": [],
   "source": [
    "# plt.imshow(mask_joe[:,:,95])\n",
    "# plt.show()"
   ]
  },
  {
   "cell_type": "code",
   "execution_count": 8,
   "metadata": {},
   "outputs": [],
   "source": [
    "# plt.imshow(mask_reza[:,:,95])\n",
    "# plt.show()"
   ]
  },
  {
   "cell_type": "code",
   "execution_count": 9,
   "metadata": {},
   "outputs": [],
   "source": [
    "# plt.imshow(mask_reza_new[95,:,:])\n",
    "# plt.show()"
   ]
  },
  {
   "cell_type": "code",
   "execution_count": 17,
   "metadata": {},
   "outputs": [],
   "source": [
    "def save_obj(path,obj, name ):\n",
    "    with open(path + name + '.pkl', 'wb') as f:\n",
    "        pickle.dump(obj, f, pickle.HIGHEST_PROTOCOL)\n",
    "\n",
    "def load_obj(path,name):\n",
    "    with open(path + name + '.pkl', 'rb') as f:\n",
    "        return pickle.load(f)"
   ]
  },
  {
   "cell_type": "code",
   "execution_count": 18,
   "metadata": {},
   "outputs": [],
   "source": [
    "# path_features = r'/cluster/projects/radiomics/Temp/MandReza/features/first/'\n",
    "# features =  []\n",
    "# index = []\n",
    "# for i in (os.listdir(path_features)):\n",
    "#     name = i.split('.')[0]\n",
    "#     index.append(int(name))\n",
    "#     feat = load_obj(path_features,name)\n",
    "#     features.append(feat.values())  \n",
    "    \n",
    "# mand_features = pd.DataFrame(features, index = index, columns = feat.keys())"
   ]
  },
  {
   "cell_type": "code",
   "execution_count": 19,
   "metadata": {},
   "outputs": [],
   "source": [
    "# mand_features.head()"
   ]
  },
  {
   "cell_type": "code",
   "execution_count": 20,
   "metadata": {},
   "outputs": [],
   "source": [
    "# mand_features.to_csv('mand_features.csv')"
   ]
  },
  {
   "cell_type": "code",
   "execution_count": 21,
   "metadata": {},
   "outputs": [],
   "source": [
    "mand_features = pd.read_csv('mand_features.csv')\n",
    "mand_features.rename(columns = {'Unnamed: 0':'ID'}, inplace = True)\n",
    "mand_features.set_index(['ID'], inplace = True)"
   ]
  },
  {
   "cell_type": "code",
   "execution_count": 22,
   "metadata": {},
   "outputs": [],
   "source": [
    "from sklearn.preprocessing import RobustScaler\n",
    "\n",
    "scaler = RobustScaler()\n",
    "scaler.fit(mand_features.iloc[:,22:])\n",
    "Newfeat = scaler.transform(mand_features.iloc[:,22:])\n",
    "radiomics = pd.DataFrame(Newfeat, index = mand_features.index, columns = mand_features.columns[22:])\n",
    "All_Features = radiomics.columns.to_list()"
   ]
  },
  {
   "cell_type": "code",
   "execution_count": 23,
   "metadata": {},
   "outputs": [
    {
     "data": {
      "text/html": [
       "<div>\n",
       "<style scoped>\n",
       "    .dataframe tbody tr th:only-of-type {\n",
       "        vertical-align: middle;\n",
       "    }\n",
       "\n",
       "    .dataframe tbody tr th {\n",
       "        vertical-align: top;\n",
       "    }\n",
       "\n",
       "    .dataframe thead th {\n",
       "        text-align: right;\n",
       "    }\n",
       "</style>\n",
       "<table border=\"1\" class=\"dataframe\">\n",
       "  <thead>\n",
       "    <tr style=\"text-align: right;\">\n",
       "      <th></th>\n",
       "      <th>original_shape_Elongation</th>\n",
       "      <th>original_shape_Flatness</th>\n",
       "      <th>original_shape_LeastAxisLength</th>\n",
       "      <th>original_shape_MajorAxisLength</th>\n",
       "      <th>original_shape_Maximum2DDiameterColumn</th>\n",
       "      <th>original_shape_Maximum2DDiameterRow</th>\n",
       "      <th>original_shape_Maximum2DDiameterSlice</th>\n",
       "      <th>original_shape_Maximum3DDiameter</th>\n",
       "      <th>original_shape_MeshVolume</th>\n",
       "      <th>original_shape_MinorAxisLength</th>\n",
       "      <th>...</th>\n",
       "      <th>lbp-3D-k_gldm_GrayLevelNonUniformity</th>\n",
       "      <th>lbp-3D-k_gldm_GrayLevelVariance</th>\n",
       "      <th>lbp-3D-k_gldm_HighGrayLevelEmphasis</th>\n",
       "      <th>lbp-3D-k_gldm_LargeDependenceEmphasis</th>\n",
       "      <th>lbp-3D-k_gldm_LargeDependenceHighGrayLevelEmphasis</th>\n",
       "      <th>lbp-3D-k_gldm_LargeDependenceLowGrayLevelEmphasis</th>\n",
       "      <th>lbp-3D-k_gldm_LowGrayLevelEmphasis</th>\n",
       "      <th>lbp-3D-k_gldm_SmallDependenceEmphasis</th>\n",
       "      <th>lbp-3D-k_gldm_SmallDependenceHighGrayLevelEmphasis</th>\n",
       "      <th>lbp-3D-k_gldm_SmallDependenceLowGrayLevelEmphasis</th>\n",
       "    </tr>\n",
       "    <tr>\n",
       "      <th>ID</th>\n",
       "      <th></th>\n",
       "      <th></th>\n",
       "      <th></th>\n",
       "      <th></th>\n",
       "      <th></th>\n",
       "      <th></th>\n",
       "      <th></th>\n",
       "      <th></th>\n",
       "      <th></th>\n",
       "      <th></th>\n",
       "      <th></th>\n",
       "      <th></th>\n",
       "      <th></th>\n",
       "      <th></th>\n",
       "      <th></th>\n",
       "      <th></th>\n",
       "      <th></th>\n",
       "      <th></th>\n",
       "      <th></th>\n",
       "      <th></th>\n",
       "      <th></th>\n",
       "    </tr>\n",
       "  </thead>\n",
       "  <tbody>\n",
       "    <tr>\n",
       "      <td>3906031</td>\n",
       "      <td>0.117655</td>\n",
       "      <td>-0.094018</td>\n",
       "      <td>-0.237497</td>\n",
       "      <td>-0.319910</td>\n",
       "      <td>-0.076646</td>\n",
       "      <td>0.342963</td>\n",
       "      <td>-0.110115</td>\n",
       "      <td>0.093747</td>\n",
       "      <td>-0.170902</td>\n",
       "      <td>-0.146283</td>\n",
       "      <td>...</td>\n",
       "      <td>-0.126512</td>\n",
       "      <td>-0.195319</td>\n",
       "      <td>-0.194186</td>\n",
       "      <td>-0.092471</td>\n",
       "      <td>-0.108840</td>\n",
       "      <td>-0.084243</td>\n",
       "      <td>0.194186</td>\n",
       "      <td>-0.811963</td>\n",
       "      <td>-0.918792</td>\n",
       "      <td>-0.471983</td>\n",
       "    </tr>\n",
       "    <tr>\n",
       "      <td>4054987</td>\n",
       "      <td>-0.638718</td>\n",
       "      <td>-1.736324</td>\n",
       "      <td>-1.052421</td>\n",
       "      <td>1.731187</td>\n",
       "      <td>0.368966</td>\n",
       "      <td>0.405633</td>\n",
       "      <td>1.684761</td>\n",
       "      <td>0.128552</td>\n",
       "      <td>-0.781024</td>\n",
       "      <td>0.705252</td>\n",
       "      <td>...</td>\n",
       "      <td>-0.720651</td>\n",
       "      <td>-0.890708</td>\n",
       "      <td>-0.872811</td>\n",
       "      <td>-0.843394</td>\n",
       "      <td>-1.030283</td>\n",
       "      <td>-0.798303</td>\n",
       "      <td>0.872811</td>\n",
       "      <td>-0.196081</td>\n",
       "      <td>-0.378573</td>\n",
       "      <td>0.337766</td>\n",
       "    </tr>\n",
       "    <tr>\n",
       "      <td>4392954</td>\n",
       "      <td>0.258965</td>\n",
       "      <td>1.365717</td>\n",
       "      <td>0.976289</td>\n",
       "      <td>-0.674697</td>\n",
       "      <td>-0.440358</td>\n",
       "      <td>0.208585</td>\n",
       "      <td>-0.242639</td>\n",
       "      <td>-0.053497</td>\n",
       "      <td>0.560110</td>\n",
       "      <td>-0.307564</td>\n",
       "      <td>...</td>\n",
       "      <td>0.657534</td>\n",
       "      <td>-0.223350</td>\n",
       "      <td>-0.221922</td>\n",
       "      <td>0.647426</td>\n",
       "      <td>0.699454</td>\n",
       "      <td>0.642551</td>\n",
       "      <td>0.221922</td>\n",
       "      <td>-0.283044</td>\n",
       "      <td>-0.244490</td>\n",
       "      <td>-0.379709</td>\n",
       "    </tr>\n",
       "    <tr>\n",
       "      <td>3755617</td>\n",
       "      <td>-0.463644</td>\n",
       "      <td>1.006862</td>\n",
       "      <td>0.598869</td>\n",
       "      <td>-0.727644</td>\n",
       "      <td>0.591124</td>\n",
       "      <td>-0.241565</td>\n",
       "      <td>0.639774</td>\n",
       "      <td>0.001992</td>\n",
       "      <td>0.913755</td>\n",
       "      <td>-0.962478</td>\n",
       "      <td>...</td>\n",
       "      <td>0.891087</td>\n",
       "      <td>0.686864</td>\n",
       "      <td>0.696200</td>\n",
       "      <td>0.374294</td>\n",
       "      <td>0.567792</td>\n",
       "      <td>0.335397</td>\n",
       "      <td>-0.696200</td>\n",
       "      <td>-0.872832</td>\n",
       "      <td>-0.827015</td>\n",
       "      <td>-0.968229</td>\n",
       "    </tr>\n",
       "    <tr>\n",
       "      <td>3885484</td>\n",
       "      <td>0.059645</td>\n",
       "      <td>0.026432</td>\n",
       "      <td>0.378833</td>\n",
       "      <td>0.601477</td>\n",
       "      <td>0.260250</td>\n",
       "      <td>0.662504</td>\n",
       "      <td>0.117852</td>\n",
       "      <td>0.476445</td>\n",
       "      <td>1.043486</td>\n",
       "      <td>0.530197</td>\n",
       "      <td>...</td>\n",
       "      <td>1.221020</td>\n",
       "      <td>-0.511911</td>\n",
       "      <td>-0.505558</td>\n",
       "      <td>1.006922</td>\n",
       "      <td>0.979745</td>\n",
       "      <td>1.021890</td>\n",
       "      <td>0.505558</td>\n",
       "      <td>-0.397759</td>\n",
       "      <td>-0.296578</td>\n",
       "      <td>-0.669689</td>\n",
       "    </tr>\n",
       "  </tbody>\n",
       "</table>\n",
       "<p>5 rows × 1774 columns</p>\n",
       "</div>"
      ],
      "text/plain": [
       "         original_shape_Elongation  original_shape_Flatness  \\\n",
       "ID                                                            \n",
       "3906031                   0.117655                -0.094018   \n",
       "4054987                  -0.638718                -1.736324   \n",
       "4392954                   0.258965                 1.365717   \n",
       "3755617                  -0.463644                 1.006862   \n",
       "3885484                   0.059645                 0.026432   \n",
       "\n",
       "         original_shape_LeastAxisLength  original_shape_MajorAxisLength  \\\n",
       "ID                                                                        \n",
       "3906031                       -0.237497                       -0.319910   \n",
       "4054987                       -1.052421                        1.731187   \n",
       "4392954                        0.976289                       -0.674697   \n",
       "3755617                        0.598869                       -0.727644   \n",
       "3885484                        0.378833                        0.601477   \n",
       "\n",
       "         original_shape_Maximum2DDiameterColumn  \\\n",
       "ID                                                \n",
       "3906031                               -0.076646   \n",
       "4054987                                0.368966   \n",
       "4392954                               -0.440358   \n",
       "3755617                                0.591124   \n",
       "3885484                                0.260250   \n",
       "\n",
       "         original_shape_Maximum2DDiameterRow  \\\n",
       "ID                                             \n",
       "3906031                             0.342963   \n",
       "4054987                             0.405633   \n",
       "4392954                             0.208585   \n",
       "3755617                            -0.241565   \n",
       "3885484                             0.662504   \n",
       "\n",
       "         original_shape_Maximum2DDiameterSlice  \\\n",
       "ID                                               \n",
       "3906031                              -0.110115   \n",
       "4054987                               1.684761   \n",
       "4392954                              -0.242639   \n",
       "3755617                               0.639774   \n",
       "3885484                               0.117852   \n",
       "\n",
       "         original_shape_Maximum3DDiameter  original_shape_MeshVolume  \\\n",
       "ID                                                                     \n",
       "3906031                          0.093747                  -0.170902   \n",
       "4054987                          0.128552                  -0.781024   \n",
       "4392954                         -0.053497                   0.560110   \n",
       "3755617                          0.001992                   0.913755   \n",
       "3885484                          0.476445                   1.043486   \n",
       "\n",
       "         original_shape_MinorAxisLength  ...  \\\n",
       "ID                                       ...   \n",
       "3906031                       -0.146283  ...   \n",
       "4054987                        0.705252  ...   \n",
       "4392954                       -0.307564  ...   \n",
       "3755617                       -0.962478  ...   \n",
       "3885484                        0.530197  ...   \n",
       "\n",
       "         lbp-3D-k_gldm_GrayLevelNonUniformity  \\\n",
       "ID                                              \n",
       "3906031                             -0.126512   \n",
       "4054987                             -0.720651   \n",
       "4392954                              0.657534   \n",
       "3755617                              0.891087   \n",
       "3885484                              1.221020   \n",
       "\n",
       "         lbp-3D-k_gldm_GrayLevelVariance  lbp-3D-k_gldm_HighGrayLevelEmphasis  \\\n",
       "ID                                                                              \n",
       "3906031                        -0.195319                            -0.194186   \n",
       "4054987                        -0.890708                            -0.872811   \n",
       "4392954                        -0.223350                            -0.221922   \n",
       "3755617                         0.686864                             0.696200   \n",
       "3885484                        -0.511911                            -0.505558   \n",
       "\n",
       "         lbp-3D-k_gldm_LargeDependenceEmphasis  \\\n",
       "ID                                               \n",
       "3906031                              -0.092471   \n",
       "4054987                              -0.843394   \n",
       "4392954                               0.647426   \n",
       "3755617                               0.374294   \n",
       "3885484                               1.006922   \n",
       "\n",
       "         lbp-3D-k_gldm_LargeDependenceHighGrayLevelEmphasis  \\\n",
       "ID                                                            \n",
       "3906031                                          -0.108840    \n",
       "4054987                                          -1.030283    \n",
       "4392954                                           0.699454    \n",
       "3755617                                           0.567792    \n",
       "3885484                                           0.979745    \n",
       "\n",
       "         lbp-3D-k_gldm_LargeDependenceLowGrayLevelEmphasis  \\\n",
       "ID                                                           \n",
       "3906031                                          -0.084243   \n",
       "4054987                                          -0.798303   \n",
       "4392954                                           0.642551   \n",
       "3755617                                           0.335397   \n",
       "3885484                                           1.021890   \n",
       "\n",
       "         lbp-3D-k_gldm_LowGrayLevelEmphasis  \\\n",
       "ID                                            \n",
       "3906031                            0.194186   \n",
       "4054987                            0.872811   \n",
       "4392954                            0.221922   \n",
       "3755617                           -0.696200   \n",
       "3885484                            0.505558   \n",
       "\n",
       "         lbp-3D-k_gldm_SmallDependenceEmphasis  \\\n",
       "ID                                               \n",
       "3906031                              -0.811963   \n",
       "4054987                              -0.196081   \n",
       "4392954                              -0.283044   \n",
       "3755617                              -0.872832   \n",
       "3885484                              -0.397759   \n",
       "\n",
       "         lbp-3D-k_gldm_SmallDependenceHighGrayLevelEmphasis  \\\n",
       "ID                                                            \n",
       "3906031                                          -0.918792    \n",
       "4054987                                          -0.378573    \n",
       "4392954                                          -0.244490    \n",
       "3755617                                          -0.827015    \n",
       "3885484                                          -0.296578    \n",
       "\n",
       "         lbp-3D-k_gldm_SmallDependenceLowGrayLevelEmphasis  \n",
       "ID                                                          \n",
       "3906031                                          -0.471983  \n",
       "4054987                                           0.337766  \n",
       "4392954                                          -0.379709  \n",
       "3755617                                          -0.968229  \n",
       "3885484                                          -0.669689  \n",
       "\n",
       "[5 rows x 1774 columns]"
      ]
     },
     "execution_count": 23,
     "metadata": {},
     "output_type": "execute_result"
    }
   ],
   "source": [
    "radiomics.head()"
   ]
  },
  {
   "cell_type": "code",
   "execution_count": 24,
   "metadata": {},
   "outputs": [],
   "source": [
    "from lifelines.utils import datetimes_to_durations,  survival_table_from_events\n",
    "def survival_info_adding(df: pd.DataFrame):\n",
    "    df['Last Event'] = df['Last FU']\n",
    "    df['Event'] = (df['Status'] == 'Dead')\n",
    "    df.loc[df['Event'] , 'Last Event'] = df.loc[df['Event'], 'Date of Death']\n",
    "    start_date = df['RT End']\n",
    "    end_date = df['Last Event']\n",
    "    T_old, _ = datetimes_to_durations(start_date, end_date)\n",
    "    df['Survival Time'] = T_old /365\n",
    "    df['High_Risk'] = df['Survival Time']<= 4\n",
    "    return df"
   ]
  },
  {
   "cell_type": "code",
   "execution_count": 25,
   "metadata": {},
   "outputs": [
    {
     "name": "stdout",
     "output_type": "stream",
     "text": [
      "analysis.ipynb             mand_features.csv           radioTox.csv\r\n",
      "Br1.xlsx                   Mandible_analysis.ipynb     \u001b[0m\u001b[38;5;27mresult\u001b[0m/\r\n",
      "CE_administration.ipynb    Mandible_extraction.ipynb   result0000.csv\r\n",
      "CL1.csv                    mask.py                     scp1.py\r\n",
      "CL2.csv                    meta_complete.csv           scp.ipynb\r\n",
      "cl2.xlsx                   meta.csv                    segmentation.ipynb\r\n",
      "CL3.csv                    meta_new.csv                tgrc-allcase.py\r\n",
      "cl3.xlsx                   \u001b[38;5;27m__pycache__\u001b[0m/                tgrc.py\r\n",
      "CL4.csv                    radcure_all_rois.csv        ToxDatePrediction1.csv\r\n",
      "cl4.xlsx                   radcure_DA_labels.csv       ToxDatePrediction2.csv\r\n",
      "clinics.xlsx               radioHPV.csv                toxicity.py\r\n",
      "Colin_det.py               radiomicsComplete.csv       Toxicity.xlsx\r\n",
      "Data_By_Aquisition_v6.csv  radiomicsComplete_meta.csv  utils.py\r\n",
      "feature_mandible.csv       radiomicsCompleteNew.csv\r\n",
      "mandfeat.csv               radiomics.csv\r\n"
     ]
    }
   ],
   "source": [
    "ls"
   ]
  },
  {
   "cell_type": "code",
   "execution_count": 29,
   "metadata": {},
   "outputs": [
    {
     "name": "stderr",
     "output_type": "stream",
     "text": [
      "/cluster/home/rreiazi/anaconda3/lib/python3.7/site-packages/lifelines/utils/__init__.py:700: UserWarning: Warning: some values of start_times are after end_times.\n",
      "\n",
      "  warnings.warn(\"Warning: some values of start_times are after end_times.\\n\", UserWarning)\n"
     ]
    }
   ],
   "source": [
    "# CT dicom metadata\n",
    "meta = pd.read_csv('meta_new.csv')\n",
    "meta = meta.set_index('ID', drop = True)\n",
    "meta.drop(['Unnamed: 0'], axis = 1, inplace = True)\n",
    "\n",
    "meta_loc = pd.read_csv('meta.csv')\n",
    "meta_loc.drop(['Unnamed: 0'], axis = 1, inplace = True)\n",
    "meta_loc = meta_loc.set_index('ID', drop = True)\n",
    "\n",
    "\n",
    "# Clinical features\n",
    "clinic = pd.read_excel('clinics.xlsx')\n",
    "clinic = survival_info_adding(clinic)\n",
    "clinic = clinic.set_index('MRN', drop = True)\n",
    "clinic['1st G3-4 Late Tox'].replace('yes', 'Yes', inplace  = True)"
   ]
  },
  {
   "cell_type": "code",
   "execution_count": 30,
   "metadata": {},
   "outputs": [
    {
     "data": {
      "text/plain": [
       "With CE       1635\n",
       "Without CE     887\n",
       "Y                1\n",
       "H/N              1\n",
       "H&N              1\n",
       "Name: ContrastBolusAgent, dtype: int64"
      ]
     },
     "execution_count": 30,
     "metadata": {},
     "output_type": "execute_result"
    }
   ],
   "source": [
    "replacement = {'CE': 'With CE','IV':'With CE','VISAPAQUE':'With CE','VISAPQUE': 'With CE',\n",
    "              'VISIPAQUE IV':'With CE','IV VISIPAQUE':'With CE','VISIPAQUE':'With CE', 'Unreported': 'Without CE'}\n",
    "meta.replace(replacement, inplace  = True)\n",
    "meta['ContrastBolusAgent'].value_counts()"
   ]
  },
  {
   "cell_type": "code",
   "execution_count": 31,
   "metadata": {},
   "outputs": [],
   "source": [
    "_mand = radiomics.loc[radiomics.index.isin(clinic.loc[clinic['1st G3-4 Late Tox'].notnull()].index)].index\n",
    "_tox = clinic.loc[clinic['1st G3-4 Late Tox'].notnull()].index"
   ]
  },
  {
   "cell_type": "code",
   "execution_count": 94,
   "metadata": {},
   "outputs": [],
   "source": [
    "with_bone = clinic.loc[clinic['Type of 1st G3-4 Late Tox'] == 'Bone Tox (ORN etc)'].index\n",
    "image = r'/cluster/projects/radiomics/Temp/OARS050120/masks/'"
   ]
  },
  {
   "cell_type": "code",
   "execution_count": 95,
   "metadata": {},
   "outputs": [],
   "source": [
    "with_image = [int(i.split('.')[0]) for i in os.listdir(image)]\n",
    "with_bone_and_image = [i for i in with_bone if i in with_image]"
   ]
  },
  {
   "cell_type": "code",
   "execution_count": null,
   "metadata": {},
   "outputs": [],
   "source": [
    "with_bone_and_image = []\n",
    "with_problem = []\n",
    "for i in os.listdir(image):\n",
    "    \n",
    "    try:\n",
    "        mask, info = nrrd.read(os.path.join(image,i))\n",
    "        if np.any(mask == 7) == True:\n",
    "            with_bone_and_image.append(i)\n",
    "    except:\n",
    "        with_problem.append(i)\n",
    "        "
   ]
  },
  {
   "cell_type": "code",
   "execution_count": 122,
   "metadata": {},
   "outputs": [
    {
     "data": {
      "text/plain": [
       "True"
      ]
     },
     "execution_count": 122,
     "metadata": {},
     "output_type": "execute_result"
    }
   ],
   "source": [
    "with_bone_and_image"
   ]
  },
  {
   "cell_type": "code",
   "execution_count": 32,
   "metadata": {},
   "outputs": [],
   "source": [
    "not_in_mand = [str(i) for i in _tox if i not in _mand]"
   ]
  },
  {
   "cell_type": "code",
   "execution_count": 33,
   "metadata": {},
   "outputs": [],
   "source": [
    "path = '/cluster/home/rreiazi/clinic'\n",
    "save_obj(path,not_in_mand, 'not_in_mand')"
   ]
  },
  {
   "cell_type": "code",
   "execution_count": 34,
   "metadata": {},
   "outputs": [],
   "source": [
    "tox = clinic.loc[_mand, '1st G3-4 Late Tox']\n",
    "toxType = clinic.loc[_mand, 'Type of 1st G3-4 Late Tox']\n",
    "radioTox = radiomics.loc[tox.index]\n",
    "radioTox['tox'] = tox\n",
    "radioTox['toxType'] = toxType"
   ]
  },
  {
   "cell_type": "code",
   "execution_count": 35,
   "metadata": {},
   "outputs": [
    {
     "data": {
      "text/plain": [
       "1    385\n",
       "0    230\n",
       "Name: tox, dtype: int64"
      ]
     },
     "execution_count": 35,
     "metadata": {},
     "output_type": "execute_result"
    }
   ],
   "source": [
    "radioTox['tox'].replace('Yes', 1, inplace = True)\n",
    "radioTox['tox'].replace('No', 0, inplace =  True)\n",
    "radioTox['tox'].value_counts()"
   ]
  },
  {
   "cell_type": "code",
   "execution_count": 37,
   "metadata": {},
   "outputs": [
    {
     "data": {
      "text/plain": [
       "<matplotlib.axes._subplots.AxesSubplot at 0x7f850d84f610>"
      ]
     },
     "execution_count": 37,
     "metadata": {},
     "output_type": "execute_result"
    },
    {
     "data": {
      "image/png": "[encoded data removed]",
      "text/plain": [
       "<Figure size 432x288 with 1 Axes>"
      ]
     },
     "metadata": {
      "needs_background": "light"
     },
     "output_type": "display_data"
    }
   ],
   "source": [
    "radioTox_no_da = radioTox.loc[radioTox.index.isin(no_da)]\n",
    "radioTox_no_da['tox'].value_counts()\n",
    "radioTox_no_da['toxType'].value_counts().plot.barh(title = 'Type of Radiation Toxicity across samples')"
   ]
  },
  {
   "cell_type": "code",
   "execution_count": 44,
   "metadata": {},
   "outputs": [
    {
     "data": {
      "text/plain": [
       "<matplotlib.axes._subplots.AxesSubplot at 0x7f84caf10b10>"
      ]
     },
     "execution_count": 44,
     "metadata": {},
     "output_type": "execute_result"
    },
    {
     "data": {
      "image/png": "[encoded data removed]",
      "text/plain": [
       "<Figure size 432x288 with 1 Axes>"
      ]
     },
     "metadata": {
      "needs_background": "light"
     },
     "output_type": "display_data"
    }
   ],
   "source": [
    "radioTox_no_da['tox'].value_counts().plot.barh(title = 'The occurance of radiation toxicity across all samples')"
   ]
  },
  {
   "cell_type": "code",
   "execution_count": 38,
   "metadata": {},
   "outputs": [
    {
     "name": "stderr",
     "output_type": "stream",
     "text": [
      "/cluster/home/rreiazi/anaconda3/lib/python3.7/site-packages/pandas/core/indexing.py:961: FutureWarning: \n",
      "Passing list-likes to .loc or [] with any missing label will raise\n",
      "KeyError in the future, you can use .reindex() as an alternative.\n",
      "\n",
      "See the documentation here:\n",
      "https://pandas.pydata.org/pandas-docs/stable/user_guide/indexing.html#deprecate-loc-reindex-listlike\n",
      "  return getattr(section, self.name)[new_key]\n"
     ]
    },
    {
     "data": {
      "text/plain": [
       "<matplotlib.axes._subplots.AxesSubplot at 0x7f84caaf1cd0>"
      ]
     },
     "execution_count": 38,
     "metadata": {},
     "output_type": "execute_result"
    },
    {
     "data": {
      "image/png": "[encoded data removed]",
      "text/plain": [
       "<Figure size 432x288 with 1 Axes>"
      ]
     },
     "metadata": {
      "needs_background": "light"
     },
     "output_type": "display_data"
    }
   ],
   "source": [
    "meta_loc.loc[radioTox_no_da.index, 'Location'].value_counts().plot.barh(title = '# of samples in different Disease site')"
   ]
  },
  {
   "cell_type": "code",
   "execution_count": 39,
   "metadata": {},
   "outputs": [
    {
     "data": {
      "text/plain": [
       "<matplotlib.axes._subplots.AxesSubplot at 0x7f84caa683d0>"
      ]
     },
     "execution_count": 39,
     "metadata": {},
     "output_type": "execute_result"
    },
    {
     "data": {
      "image/png": "[encoded data removed]",
      "text/plain": [
       "<Figure size 432x288 with 1 Axes>"
      ]
     },
     "metadata": {
      "needs_background": "light"
     },
     "output_type": "display_data"
    }
   ],
   "source": [
    "meta.loc[radioTox_no_da.index, 'ContrastBolusAgent'].value_counts().plot.barh(title = '# of samples in different Contrast agent administration')"
   ]
  },
  {
   "cell_type": "code",
   "execution_count": 40,
   "metadata": {},
   "outputs": [
    {
     "data": {
      "text/plain": [
       "<matplotlib.axes._subplots.AxesSubplot at 0x7f84ca9c9a10>"
      ]
     },
     "execution_count": 40,
     "metadata": {},
     "output_type": "execute_result"
    },
    {
     "data": {
      "image/png": "[encoded data removed]",
      "text/plain": [
       "<Figure size 432x288 with 1 Axes>"
      ]
     },
     "metadata": {
      "needs_background": "light"
     },
     "output_type": "display_data"
    }
   ],
   "source": [
    "meta.loc[radioTox_no_da.index, 'Manufacturer'].value_counts().plot.barh(title = '# of samples in different Scanner Manufacturer')"
   ]
  },
  {
   "cell_type": "code",
   "execution_count": 41,
   "metadata": {},
   "outputs": [],
   "source": [
    "from pymrmre import mrmr\n",
    "\n",
    "def mrmr_feat(data,solution_length):\n",
    "    solutions = mrmr.mrmr_ensemble(features=data, \n",
    "              target_features=[data.shape[1]-1], \n",
    "              feature_types=list(np.zeros(len(data.columns))), solution_length=solution_length)\n",
    "    mrmr_ = solutions[0][0]\n",
    "    return mrmr_"
   ]
  },
  {
   "cell_type": "code",
   "execution_count": 42,
   "metadata": {},
   "outputs": [],
   "source": [
    "from sklearn.ensemble import RandomForestClassifier\n",
    "from sklearn.model_selection import RandomizedSearchCV\n",
    "\n",
    "def train_model(x_train,y_train):\n",
    "    clf = RandomForestClassifier()\n",
    "\n",
    "    random_grid = {'n_estimators': [int(x) for x in np.linspace(start = 300, stop = 600, num = 20)],\n",
    "                   'max_features': ['auto'],\n",
    "                   'max_depth': [10,15,20,25,30,35],\n",
    "                   'min_samples_split': [3,4,5,6],\n",
    "                   'min_samples_leaf': [2,3,4],\n",
    "                   'bootstrap': [True]}\n",
    "    \n",
    "    RS = RandomizedSearchCV(estimator = clf, param_distributions = random_grid,n_iter = 20, cv = 5, verbose=0,n_jobs = -1)\n",
    "\n",
    "    RS.fit(x_train, y_train)\n",
    "#     print(RS.best_params_)\n",
    "    clf.set_params(**RS.best_params_)\n",
    "    print(f'train features: {x_train.columns}')\n",
    "          \n",
    "    model = clf.fit(x_train,y_train)\n",
    "    return model"
   ]
  },
  {
   "cell_type": "code",
   "execution_count": 43,
   "metadata": {},
   "outputs": [],
   "source": [
    "from sklearn.metrics import roc_curve, roc_auc_score\n",
    "\n",
    "def test_model(model,x_test, y_test):\n",
    "    print(f'test features: {x_test.columns}')\n",
    "    y_prob = model.predict_proba(x_test)[:,1]\n",
    "    auc    = roc_auc_score(y_test,y_prob)\n",
    "    fpr, tpr, thresholds = roc_curve(y_test,y_prob)  \n",
    "  \n",
    "    return fpr,tpr,auc"
   ]
  },
  {
   "cell_type": "code",
   "execution_count": 288,
   "metadata": {},
   "outputs": [
    {
     "name": "stdout",
     "output_type": "stream",
     "text": [
      "Tox study round number \" 0\n",
      "-------------------------------\n",
      "Data splitting ...\n"
     ]
    },
    {
     "name": "stderr",
     "output_type": "stream",
     "text": [
      "/cluster/home/rreiazi/anaconda3/lib/python3.7/site-packages/sklearn/model_selection/_search.py:814: DeprecationWarning: The default of the `iid` parameter will change from True to False in version 0.22 and will be removed in 0.24. This will change numeric results when test-set sizes are unequal.\n",
      "  DeprecationWarning)\n"
     ]
    },
    {
     "name": "stdout",
     "output_type": "stream",
     "text": [
      "train features: Index(['gradient_gldm_DependenceNonUniformityNormalized',\n",
      "       'original_glrlm_RunLengthNonUniformity', 'wavelet-LLH_glcm_Correlation',\n",
      "       'wavelet-LLL_firstorder_Mean', 'wavelet-LHL_glrlm_LongRunEmphasis'],\n",
      "      dtype='object')\n",
      "test features: Index(['gradient_gldm_DependenceNonUniformityNormalized',\n",
      "       'original_glrlm_RunLengthNonUniformity', 'wavelet-LLH_glcm_Correlation',\n",
      "       'wavelet-LLL_firstorder_Mean', 'wavelet-LHL_glrlm_LongRunEmphasis'],\n",
      "      dtype='object')\n",
      "-------------------------------\n",
      "Job  0  is done\n",
      "Tox study round number \" 1\n",
      "-------------------------------\n",
      "Data splitting ...\n"
     ]
    },
    {
     "name": "stderr",
     "output_type": "stream",
     "text": [
      "/cluster/home/rreiazi/anaconda3/lib/python3.7/site-packages/sklearn/model_selection/_search.py:814: DeprecationWarning: The default of the `iid` parameter will change from True to False in version 0.22 and will be removed in 0.24. This will change numeric results when test-set sizes are unequal.\n",
      "  DeprecationWarning)\n"
     ]
    },
    {
     "name": "stdout",
     "output_type": "stream",
     "text": [
      "train features: Index(['log-sigma-1-mm-3D_glcm_ClusterProminence',\n",
      "       'wavelet-LHH_glszm_GrayLevelNonUniformity',\n",
      "       'square_gldm_SmallDependenceHighGrayLevelEmphasis',\n",
      "       'squareroot_glszm_LargeAreaEmphasis', 'wavelet-LHL_glszm_ZoneEntropy'],\n",
      "      dtype='object')\n",
      "test features: Index(['log-sigma-1-mm-3D_glcm_ClusterProminence',\n",
      "       'wavelet-LHH_glszm_GrayLevelNonUniformity',\n",
      "       'square_gldm_SmallDependenceHighGrayLevelEmphasis',\n",
      "       'squareroot_glszm_LargeAreaEmphasis', 'wavelet-LHL_glszm_ZoneEntropy'],\n",
      "      dtype='object')\n",
      "-------------------------------\n",
      "Job  1  is done\n",
      "Tox study round number \" 2\n",
      "-------------------------------\n",
      "Data splitting ...\n"
     ]
    },
    {
     "name": "stderr",
     "output_type": "stream",
     "text": [
      "/cluster/home/rreiazi/anaconda3/lib/python3.7/site-packages/sklearn/model_selection/_search.py:814: DeprecationWarning: The default of the `iid` parameter will change from True to False in version 0.22 and will be removed in 0.24. This will change numeric results when test-set sizes are unequal.\n",
      "  DeprecationWarning)\n"
     ]
    },
    {
     "name": "stdout",
     "output_type": "stream",
     "text": [
      "train features: Index(['log-sigma-1-mm-3D_glrlm_LongRunEmphasis',\n",
      "       'exponential_glrlm_ShortRunLowGrayLevelEmphasis',\n",
      "       'squareroot_glcm_JointAverage',\n",
      "       'original_gldm_LargeDependenceLowGrayLevelEmphasis',\n",
      "       'wavelet-LHL_firstorder_Variance'],\n",
      "      dtype='object')\n",
      "test features: Index(['log-sigma-1-mm-3D_glrlm_LongRunEmphasis',\n",
      "       'exponential_glrlm_ShortRunLowGrayLevelEmphasis',\n",
      "       'squareroot_glcm_JointAverage',\n",
      "       'original_gldm_LargeDependenceLowGrayLevelEmphasis',\n",
      "       'wavelet-LHL_firstorder_Variance'],\n",
      "      dtype='object')\n",
      "-------------------------------\n",
      "Job  2  is done\n",
      "Tox study round number \" 3\n",
      "-------------------------------\n",
      "Data splitting ...\n"
     ]
    },
    {
     "name": "stderr",
     "output_type": "stream",
     "text": [
      "/cluster/home/rreiazi/anaconda3/lib/python3.7/site-packages/sklearn/model_selection/_search.py:814: DeprecationWarning: The default of the `iid` parameter will change from True to False in version 0.22 and will be removed in 0.24. This will change numeric results when test-set sizes are unequal.\n",
      "  DeprecationWarning)\n"
     ]
    },
    {
     "name": "stdout",
     "output_type": "stream",
     "text": [
      "train features: Index(['wavelet-LHH_firstorder_Uniformity', 'lbp-3D-m1_glcm_MCC',\n",
      "       'lbp-3D-m2_firstorder_InterquartileRange', 'squareroot_glcm_Idm',\n",
      "       'logarithm_gldm_DependenceEntropy'],\n",
      "      dtype='object')\n",
      "test features: Index(['wavelet-LHH_firstorder_Uniformity', 'lbp-3D-m1_glcm_MCC',\n",
      "       'lbp-3D-m2_firstorder_InterquartileRange', 'squareroot_glcm_Idm',\n",
      "       'logarithm_gldm_DependenceEntropy'],\n",
      "      dtype='object')\n",
      "-------------------------------\n",
      "Job  3  is done\n",
      "Tox study round number \" 4\n",
      "-------------------------------\n",
      "Data splitting ...\n"
     ]
    },
    {
     "name": "stderr",
     "output_type": "stream",
     "text": [
      "/cluster/home/rreiazi/anaconda3/lib/python3.7/site-packages/sklearn/model_selection/_search.py:814: DeprecationWarning: The default of the `iid` parameter will change from True to False in version 0.22 and will be removed in 0.24. This will change numeric results when test-set sizes are unequal.\n",
      "  DeprecationWarning)\n"
     ]
    },
    {
     "name": "stdout",
     "output_type": "stream",
     "text": [
      "train features: Index(['log-sigma-3-mm-3D_gldm_GrayLevelNonUniformity',\n",
      "       'logarithm_gldm_DependenceNonUniformity',\n",
      "       'wavelet-HLH_gldm_DependenceEntropy',\n",
      "       'wavelet-HLH_glcm_ClusterTendency',\n",
      "       'exponential_glrlm_ShortRunLowGrayLevelEmphasis'],\n",
      "      dtype='object')\n",
      "test features: Index(['log-sigma-3-mm-3D_gldm_GrayLevelNonUniformity',\n",
      "       'logarithm_gldm_DependenceNonUniformity',\n",
      "       'wavelet-HLH_gldm_DependenceEntropy',\n",
      "       'wavelet-HLH_glcm_ClusterTendency',\n",
      "       'exponential_glrlm_ShortRunLowGrayLevelEmphasis'],\n",
      "      dtype='object')\n",
      "-------------------------------\n",
      "Job  4  is done\n",
      "Tox study round number \" 5\n",
      "-------------------------------\n",
      "Data splitting ...\n"
     ]
    },
    {
     "name": "stderr",
     "output_type": "stream",
     "text": [
      "/cluster/home/rreiazi/anaconda3/lib/python3.7/site-packages/sklearn/model_selection/_search.py:814: DeprecationWarning: The default of the `iid` parameter will change from True to False in version 0.22 and will be removed in 0.24. This will change numeric results when test-set sizes are unequal.\n",
      "  DeprecationWarning)\n"
     ]
    },
    {
     "name": "stdout",
     "output_type": "stream",
     "text": [
      "train features: Index(['log-sigma-1-mm-3D_glcm_MaximumProbability',\n",
      "       'lbp-3D-k_gldm_SmallDependenceEmphasis',\n",
      "       'wavelet-HLH_firstorder_Uniformity', 'wavelet-HHL_glcm_SumAverage',\n",
      "       'squareroot_glcm_MaximumProbability'],\n",
      "      dtype='object')\n",
      "test features: Index(['log-sigma-1-mm-3D_glcm_MaximumProbability',\n",
      "       'lbp-3D-k_gldm_SmallDependenceEmphasis',\n",
      "       'wavelet-HLH_firstorder_Uniformity', 'wavelet-HHL_glcm_SumAverage',\n",
      "       'squareroot_glcm_MaximumProbability'],\n",
      "      dtype='object')\n",
      "-------------------------------\n",
      "Job  5  is done\n",
      "Tox study round number \" 6\n",
      "-------------------------------\n",
      "Data splitting ...\n"
     ]
    },
    {
     "name": "stderr",
     "output_type": "stream",
     "text": [
      "/cluster/home/rreiazi/anaconda3/lib/python3.7/site-packages/sklearn/model_selection/_search.py:814: DeprecationWarning: The default of the `iid` parameter will change from True to False in version 0.22 and will be removed in 0.24. This will change numeric results when test-set sizes are unequal.\n",
      "  DeprecationWarning)\n"
     ]
    },
    {
     "name": "stdout",
     "output_type": "stream",
     "text": [
      "train features: Index(['square_firstorder_Minimum', 'wavelet-HLH_glrlm_LongRunEmphasis',\n",
      "       'wavelet-HHL_firstorder_Mean', 'lbp-3D-m2_firstorder_Entropy',\n",
      "       'wavelet-LLL_glcm_MaximumProbability'],\n",
      "      dtype='object')\n",
      "test features: Index(['square_firstorder_Minimum', 'wavelet-HLH_glrlm_LongRunEmphasis',\n",
      "       'wavelet-HHL_firstorder_Mean', 'lbp-3D-m2_firstorder_Entropy',\n",
      "       'wavelet-LLL_glcm_MaximumProbability'],\n",
      "      dtype='object')\n",
      "-------------------------------\n",
      "Job  6  is done\n",
      "Tox study round number \" 7\n",
      "-------------------------------\n",
      "Data splitting ...\n"
     ]
    },
    {
     "name": "stderr",
     "output_type": "stream",
     "text": [
      "/cluster/home/rreiazi/anaconda3/lib/python3.7/site-packages/sklearn/model_selection/_search.py:814: DeprecationWarning: The default of the `iid` parameter will change from True to False in version 0.22 and will be removed in 0.24. This will change numeric results when test-set sizes are unequal.\n",
      "  DeprecationWarning)\n"
     ]
    },
    {
     "name": "stdout",
     "output_type": "stream",
     "text": [
      "train features: Index(['wavelet-HLL_firstorder_Kurtosis',\n",
      "       'lbp-3D-m2_gldm_DependenceNonUniformity',\n",
      "       'wavelet-HLH_gldm_LargeDependenceLowGrayLevelEmphasis',\n",
      "       'logarithm_glcm_ClusterProminence', 'lbp-3D-m2_glcm_ClusterProminence'],\n",
      "      dtype='object')\n",
      "test features: Index(['wavelet-HLL_firstorder_Kurtosis',\n",
      "       'lbp-3D-m2_gldm_DependenceNonUniformity',\n",
      "       'wavelet-HLH_gldm_LargeDependenceLowGrayLevelEmphasis',\n",
      "       'logarithm_glcm_ClusterProminence', 'lbp-3D-m2_glcm_ClusterProminence'],\n",
      "      dtype='object')\n",
      "-------------------------------\n",
      "Job  7  is done\n",
      "Tox study round number \" 8\n",
      "-------------------------------\n",
      "Data splitting ...\n"
     ]
    },
    {
     "name": "stderr",
     "output_type": "stream",
     "text": [
      "/cluster/home/rreiazi/anaconda3/lib/python3.7/site-packages/sklearn/model_selection/_search.py:814: DeprecationWarning: The default of the `iid` parameter will change from True to False in version 0.22 and will be removed in 0.24. This will change numeric results when test-set sizes are unequal.\n",
      "  DeprecationWarning)\n"
     ]
    },
    {
     "name": "stdout",
     "output_type": "stream",
     "text": [
      "train features: Index(['gradient_glszm_GrayLevelNonUniformityNormalized',\n",
      "       'wavelet-HHL_glrlm_ShortRunHighGrayLevelEmphasis',\n",
      "       'exponential_glszm_LargeAreaEmphasis', 'original_firstorder_Variance',\n",
      "       'lbp-3D-m2_glcm_ClusterShade'],\n",
      "      dtype='object')\n",
      "test features: Index(['gradient_glszm_GrayLevelNonUniformityNormalized',\n",
      "       'wavelet-HHL_glrlm_ShortRunHighGrayLevelEmphasis',\n",
      "       'exponential_glszm_LargeAreaEmphasis', 'original_firstorder_Variance',\n",
      "       'lbp-3D-m2_glcm_ClusterShade'],\n",
      "      dtype='object')\n",
      "-------------------------------\n",
      "Job  8  is done\n",
      "Tox study round number \" 9\n",
      "-------------------------------\n",
      "Data splitting ...\n"
     ]
    },
    {
     "name": "stderr",
     "output_type": "stream",
     "text": [
      "/cluster/home/rreiazi/anaconda3/lib/python3.7/site-packages/sklearn/model_selection/_search.py:814: DeprecationWarning: The default of the `iid` parameter will change from True to False in version 0.22 and will be removed in 0.24. This will change numeric results when test-set sizes are unequal.\n",
      "  DeprecationWarning)\n"
     ]
    },
    {
     "name": "stdout",
     "output_type": "stream",
     "text": [
      "train features: Index(['lbp-3D-k_glrlm_ShortRunLowGrayLevelEmphasis',\n",
      "       'log-sigma-1-mm-3D_glrlm_RunLengthNonUniformity',\n",
      "       'log-sigma-3-mm-3D_glrlm_ShortRunHighGrayLevelEmphasis',\n",
      "       'wavelet-HLH_glszm_ZonePercentage', 'squareroot_glcm_SumAverage'],\n",
      "      dtype='object')\n",
      "test features: Index(['lbp-3D-k_glrlm_ShortRunLowGrayLevelEmphasis',\n",
      "       'log-sigma-1-mm-3D_glrlm_RunLengthNonUniformity',\n",
      "       'log-sigma-3-mm-3D_glrlm_ShortRunHighGrayLevelEmphasis',\n",
      "       'wavelet-HLH_glszm_ZonePercentage', 'squareroot_glcm_SumAverage'],\n",
      "      dtype='object')\n",
      "-------------------------------\n",
      "Job  9  is done\n",
      "Tox study round number \" 10\n",
      "-------------------------------\n",
      "Data splitting ...\n"
     ]
    },
    {
     "name": "stderr",
     "output_type": "stream",
     "text": [
      "/cluster/home/rreiazi/anaconda3/lib/python3.7/site-packages/sklearn/model_selection/_search.py:814: DeprecationWarning: The default of the `iid` parameter will change from True to False in version 0.22 and will be removed in 0.24. This will change numeric results when test-set sizes are unequal.\n",
      "  DeprecationWarning)\n"
     ]
    },
    {
     "name": "stdout",
     "output_type": "stream",
     "text": [
      "train features: Index(['wavelet-LLL_glrlm_RunVariance', 'wavelet-HHH_firstorder_Kurtosis',\n",
      "       'squareroot_glcm_Imc2', 'wavelet-LLH_glszm_GrayLevelNonUniformity',\n",
      "       'lbp-3D-k_glcm_Imc1'],\n",
      "      dtype='object')\n",
      "test features: Index(['wavelet-LLL_glrlm_RunVariance', 'wavelet-HHH_firstorder_Kurtosis',\n",
      "       'squareroot_glcm_Imc2', 'wavelet-LLH_glszm_GrayLevelNonUniformity',\n",
      "       'lbp-3D-k_glcm_Imc1'],\n",
      "      dtype='object')\n",
      "-------------------------------\n",
      "Job  10  is done\n",
      "Tox study round number \" 11\n",
      "-------------------------------\n",
      "Data splitting ...\n"
     ]
    },
    {
     "name": "stderr",
     "output_type": "stream",
     "text": [
      "/cluster/home/rreiazi/anaconda3/lib/python3.7/site-packages/sklearn/model_selection/_search.py:814: DeprecationWarning: The default of the `iid` parameter will change from True to False in version 0.22 and will be removed in 0.24. This will change numeric results when test-set sizes are unequal.\n",
      "  DeprecationWarning)\n"
     ]
    },
    {
     "name": "stdout",
     "output_type": "stream",
     "text": [
      "train features: Index(['log-sigma-3-mm-3D_gldm_GrayLevelNonUniformity',\n",
      "       'square_firstorder_RobustMeanAbsoluteDeviation',\n",
      "       'wavelet-HLL_firstorder_Entropy', 'wavelet-HLL_glcm_Idmn',\n",
      "       'log-sigma-1-mm-3D_glszm_ZoneVariance'],\n",
      "      dtype='object')\n",
      "test features: Index(['log-sigma-3-mm-3D_gldm_GrayLevelNonUniformity',\n",
      "       'square_firstorder_RobustMeanAbsoluteDeviation',\n",
      "       'wavelet-HLL_firstorder_Entropy', 'wavelet-HLL_glcm_Idmn',\n",
      "       'log-sigma-1-mm-3D_glszm_ZoneVariance'],\n",
      "      dtype='object')\n",
      "-------------------------------\n",
      "Job  11  is done\n",
      "Tox study round number \" 12\n",
      "-------------------------------\n",
      "Data splitting ...\n"
     ]
    },
    {
     "name": "stderr",
     "output_type": "stream",
     "text": [
      "/cluster/home/rreiazi/anaconda3/lib/python3.7/site-packages/sklearn/model_selection/_search.py:814: DeprecationWarning: The default of the `iid` parameter will change from True to False in version 0.22 and will be removed in 0.24. This will change numeric results when test-set sizes are unequal.\n",
      "  DeprecationWarning)\n"
     ]
    },
    {
     "name": "stdout",
     "output_type": "stream",
     "text": [
      "train features: Index(['original_firstorder_Skewness', 'square_firstorder_Median',\n",
      "       'log-sigma-2-mm-3D_glcm_Autocorrelation',\n",
      "       'lbp-3D-k_gldm_LargeDependenceEmphasis',\n",
      "       'logarithm_glszm_SizeZoneNonUniformity'],\n",
      "      dtype='object')\n",
      "test features: Index(['original_firstorder_Skewness', 'square_firstorder_Median',\n",
      "       'log-sigma-2-mm-3D_glcm_Autocorrelation',\n",
      "       'lbp-3D-k_gldm_LargeDependenceEmphasis',\n",
      "       'logarithm_glszm_SizeZoneNonUniformity'],\n",
      "      dtype='object')\n",
      "-------------------------------\n",
      "Job  12  is done\n",
      "Tox study round number \" 13\n",
      "-------------------------------\n",
      "Data splitting ...\n"
     ]
    },
    {
     "name": "stderr",
     "output_type": "stream",
     "text": [
      "/cluster/home/rreiazi/anaconda3/lib/python3.7/site-packages/sklearn/model_selection/_search.py:814: DeprecationWarning: The default of the `iid` parameter will change from True to False in version 0.22 and will be removed in 0.24. This will change numeric results when test-set sizes are unequal.\n",
      "  DeprecationWarning)\n"
     ]
    },
    {
     "name": "stdout",
     "output_type": "stream",
     "text": [
      "train features: Index(['wavelet-LHL_firstorder_Mean', 'logarithm_glcm_Id',\n",
      "       'wavelet-HLL_glszm_ZoneVariance',\n",
      "       'log-sigma-2-mm-3D_gldm_SmallDependenceEmphasis',\n",
      "       'log-sigma-3-mm-3D_firstorder_Kurtosis'],\n",
      "      dtype='object')\n",
      "test features: Index(['wavelet-LHL_firstorder_Mean', 'logarithm_glcm_Id',\n",
      "       'wavelet-HLL_glszm_ZoneVariance',\n",
      "       'log-sigma-2-mm-3D_gldm_SmallDependenceEmphasis',\n",
      "       'log-sigma-3-mm-3D_firstorder_Kurtosis'],\n",
      "      dtype='object')\n",
      "-------------------------------\n",
      "Job  13  is done\n",
      "Tox study round number \" 14\n",
      "-------------------------------\n",
      "Data splitting ...\n"
     ]
    },
    {
     "name": "stderr",
     "output_type": "stream",
     "text": [
      "/cluster/home/rreiazi/anaconda3/lib/python3.7/site-packages/sklearn/model_selection/_search.py:814: DeprecationWarning: The default of the `iid` parameter will change from True to False in version 0.22 and will be removed in 0.24. This will change numeric results when test-set sizes are unequal.\n",
      "  DeprecationWarning)\n"
     ]
    },
    {
     "name": "stdout",
     "output_type": "stream",
     "text": [
      "train features: Index(['wavelet-LLL_glrlm_RunLengthNonUniformityNormalized',\n",
      "       'wavelet-LHL_glszm_LargeAreaLowGrayLevelEmphasis',\n",
      "       'exponential_glcm_InverseVariance', 'lbp-3D-k_firstorder_Uniformity',\n",
      "       'lbp-3D-k_firstorder_Variance'],\n",
      "      dtype='object')\n",
      "test features: Index(['wavelet-LLL_glrlm_RunLengthNonUniformityNormalized',\n",
      "       'wavelet-LHL_glszm_LargeAreaLowGrayLevelEmphasis',\n",
      "       'exponential_glcm_InverseVariance', 'lbp-3D-k_firstorder_Uniformity',\n",
      "       'lbp-3D-k_firstorder_Variance'],\n",
      "      dtype='object')\n",
      "-------------------------------\n",
      "Job  14  is done\n",
      "Tox study round number \" 15\n",
      "-------------------------------\n",
      "Data splitting ...\n"
     ]
    },
    {
     "name": "stderr",
     "output_type": "stream",
     "text": [
      "/cluster/home/rreiazi/anaconda3/lib/python3.7/site-packages/sklearn/model_selection/_search.py:814: DeprecationWarning: The default of the `iid` parameter will change from True to False in version 0.22 and will be removed in 0.24. This will change numeric results when test-set sizes are unequal.\n",
      "  DeprecationWarning)\n"
     ]
    },
    {
     "name": "stdout",
     "output_type": "stream",
     "text": [
      "train features: Index(['wavelet-LLL_glszm_HighGrayLevelZoneEmphasis',\n",
      "       'wavelet-LHH_firstorder_Energy', 'wavelet-LHH_firstorder_TotalEnergy',\n",
      "       'original_glcm_Id', 'log-sigma-1-mm-3D_firstorder_RootMeanSquared'],\n",
      "      dtype='object')\n",
      "test features: Index(['wavelet-LLL_glszm_HighGrayLevelZoneEmphasis',\n",
      "       'wavelet-LHH_firstorder_Energy', 'wavelet-LHH_firstorder_TotalEnergy',\n",
      "       'original_glcm_Id', 'log-sigma-1-mm-3D_firstorder_RootMeanSquared'],\n",
      "      dtype='object')\n",
      "-------------------------------\n",
      "Job  15  is done\n",
      "Tox study round number \" 16\n",
      "-------------------------------\n",
      "Data splitting ...\n"
     ]
    },
    {
     "name": "stderr",
     "output_type": "stream",
     "text": [
      "/cluster/home/rreiazi/anaconda3/lib/python3.7/site-packages/sklearn/model_selection/_search.py:814: DeprecationWarning: The default of the `iid` parameter will change from True to False in version 0.22 and will be removed in 0.24. This will change numeric results when test-set sizes are unequal.\n",
      "  DeprecationWarning)\n"
     ]
    },
    {
     "name": "stdout",
     "output_type": "stream",
     "text": [
      "train features: Index(['wavelet-LHL_glrlm_LongRunEmphasis',\n",
      "       'wavelet-LHH_glrlm_ShortRunHighGrayLevelEmphasis', 'square_glcm_Idm',\n",
      "       'wavelet-LLH_glcm_DifferenceVariance',\n",
      "       'wavelet-LHL_glrlm_LongRunLowGrayLevelEmphasis'],\n",
      "      dtype='object')\n",
      "test features: Index(['wavelet-LHL_glrlm_LongRunEmphasis',\n",
      "       'wavelet-LHH_glrlm_ShortRunHighGrayLevelEmphasis', 'square_glcm_Idm',\n",
      "       'wavelet-LLH_glcm_DifferenceVariance',\n",
      "       'wavelet-LHL_glrlm_LongRunLowGrayLevelEmphasis'],\n",
      "      dtype='object')\n",
      "-------------------------------\n",
      "Job  16  is done\n",
      "Tox study round number \" 17\n",
      "-------------------------------\n",
      "Data splitting ...\n"
     ]
    },
    {
     "name": "stderr",
     "output_type": "stream",
     "text": [
      "/cluster/home/rreiazi/anaconda3/lib/python3.7/site-packages/sklearn/model_selection/_search.py:814: DeprecationWarning: The default of the `iid` parameter will change from True to False in version 0.22 and will be removed in 0.24. This will change numeric results when test-set sizes are unequal.\n",
      "  DeprecationWarning)\n"
     ]
    },
    {
     "name": "stdout",
     "output_type": "stream",
     "text": [
      "train features: Index(['logarithm_glcm_Idmn', 'square_firstorder_TotalEnergy',\n",
      "       'logarithm_firstorder_RootMeanSquared',\n",
      "       'lbp-3D-m2_gldm_LargeDependenceLowGrayLevelEmphasis',\n",
      "       'logarithm_gldm_SmallDependenceEmphasis'],\n",
      "      dtype='object')\n",
      "test features: Index(['logarithm_glcm_Idmn', 'square_firstorder_TotalEnergy',\n",
      "       'logarithm_firstorder_RootMeanSquared',\n",
      "       'lbp-3D-m2_gldm_LargeDependenceLowGrayLevelEmphasis',\n",
      "       'logarithm_gldm_SmallDependenceEmphasis'],\n",
      "      dtype='object')\n",
      "-------------------------------\n",
      "Job  17  is done\n",
      "Tox study round number \" 18\n",
      "-------------------------------\n",
      "Data splitting ...\n"
     ]
    },
    {
     "name": "stderr",
     "output_type": "stream",
     "text": [
      "/cluster/home/rreiazi/anaconda3/lib/python3.7/site-packages/sklearn/model_selection/_search.py:814: DeprecationWarning: The default of the `iid` parameter will change from True to False in version 0.22 and will be removed in 0.24. This will change numeric results when test-set sizes are unequal.\n",
      "  DeprecationWarning)\n"
     ]
    },
    {
     "name": "stdout",
     "output_type": "stream",
     "text": [
      "train features: Index(['lbp-3D-m1_gldm_SmallDependenceLowGrayLevelEmphasis',\n",
      "       'squareroot_glcm_SumAverage', 'wavelet-HHL_glcm_Imc2',\n",
      "       'wavelet-HHL_glcm_DifferenceAverage', 'wavelet-LLH_glcm_SumAverage'],\n",
      "      dtype='object')\n",
      "test features: Index(['lbp-3D-m1_gldm_SmallDependenceLowGrayLevelEmphasis',\n",
      "       'squareroot_glcm_SumAverage', 'wavelet-HHL_glcm_Imc2',\n",
      "       'wavelet-HHL_glcm_DifferenceAverage', 'wavelet-LLH_glcm_SumAverage'],\n",
      "      dtype='object')\n",
      "-------------------------------\n",
      "Job  18  is done\n",
      "Tox study round number \" 19\n",
      "-------------------------------\n",
      "Data splitting ...\n"
     ]
    },
    {
     "name": "stderr",
     "output_type": "stream",
     "text": [
      "/cluster/home/rreiazi/anaconda3/lib/python3.7/site-packages/sklearn/model_selection/_search.py:814: DeprecationWarning: The default of the `iid` parameter will change from True to False in version 0.22 and will be removed in 0.24. This will change numeric results when test-set sizes are unequal.\n",
      "  DeprecationWarning)\n"
     ]
    },
    {
     "name": "stdout",
     "output_type": "stream",
     "text": [
      "train features: Index(['lbp-3D-k_gldm_DependenceEntropy', 'squareroot_glcm_Autocorrelation',\n",
      "       'gradient_glcm_Autocorrelation', 'exponential_glrlm_RunEntropy',\n",
      "       'wavelet-LHL_glcm_ClusterTendency'],\n",
      "      dtype='object')\n",
      "test features: Index(['lbp-3D-k_gldm_DependenceEntropy', 'squareroot_glcm_Autocorrelation',\n",
      "       'gradient_glcm_Autocorrelation', 'exponential_glrlm_RunEntropy',\n",
      "       'wavelet-LHL_glcm_ClusterTendency'],\n",
      "      dtype='object')\n",
      "-------------------------------\n",
      "Job  19  is done\n",
      "Tox study round number \" 20\n",
      "-------------------------------\n",
      "Data splitting ...\n"
     ]
    },
    {
     "name": "stderr",
     "output_type": "stream",
     "text": [
      "/cluster/home/rreiazi/anaconda3/lib/python3.7/site-packages/sklearn/model_selection/_search.py:814: DeprecationWarning: The default of the `iid` parameter will change from True to False in version 0.22 and will be removed in 0.24. This will change numeric results when test-set sizes are unequal.\n",
      "  DeprecationWarning)\n"
     ]
    },
    {
     "name": "stdout",
     "output_type": "stream",
     "text": [
      "train features: Index(['wavelet-HLL_gldm_LowGrayLevelEmphasis',\n",
      "       'logarithm_glszm_SmallAreaHighGrayLevelEmphasis',\n",
      "       'lbp-3D-k_glcm_JointAverage', 'wavelet-HHH_glcm_SumEntropy',\n",
      "       'square_firstorder_Skewness'],\n",
      "      dtype='object')\n",
      "test features: Index(['wavelet-HLL_gldm_LowGrayLevelEmphasis',\n",
      "       'logarithm_glszm_SmallAreaHighGrayLevelEmphasis',\n",
      "       'lbp-3D-k_glcm_JointAverage', 'wavelet-HHH_glcm_SumEntropy',\n",
      "       'square_firstorder_Skewness'],\n",
      "      dtype='object')\n",
      "-------------------------------\n",
      "Job  20  is done\n",
      "Tox study round number \" 21\n",
      "-------------------------------\n",
      "Data splitting ...\n"
     ]
    },
    {
     "name": "stderr",
     "output_type": "stream",
     "text": [
      "/cluster/home/rreiazi/anaconda3/lib/python3.7/site-packages/sklearn/model_selection/_search.py:814: DeprecationWarning: The default of the `iid` parameter will change from True to False in version 0.22 and will be removed in 0.24. This will change numeric results when test-set sizes are unequal.\n",
      "  DeprecationWarning)\n"
     ]
    },
    {
     "name": "stdout",
     "output_type": "stream",
     "text": [
      "train features: Index(['squareroot_firstorder_Entropy', 'exponential_glszm_ZoneVariance',\n",
      "       'wavelet-HHH_firstorder_Kurtosis',\n",
      "       'log-sigma-1-mm-3D_glszm_SizeZoneNonUniformity',\n",
      "       'squareroot_glcm_JointEnergy'],\n",
      "      dtype='object')\n",
      "test features: Index(['squareroot_firstorder_Entropy', 'exponential_glszm_ZoneVariance',\n",
      "       'wavelet-HHH_firstorder_Kurtosis',\n",
      "       'log-sigma-1-mm-3D_glszm_SizeZoneNonUniformity',\n",
      "       'squareroot_glcm_JointEnergy'],\n",
      "      dtype='object')\n",
      "-------------------------------\n",
      "Job  21  is done\n",
      "Tox study round number \" 22\n",
      "-------------------------------\n",
      "Data splitting ...\n"
     ]
    },
    {
     "name": "stderr",
     "output_type": "stream",
     "text": [
      "/cluster/home/rreiazi/anaconda3/lib/python3.7/site-packages/sklearn/model_selection/_search.py:814: DeprecationWarning: The default of the `iid` parameter will change from True to False in version 0.22 and will be removed in 0.24. This will change numeric results when test-set sizes are unequal.\n",
      "  DeprecationWarning)\n"
     ]
    },
    {
     "name": "stdout",
     "output_type": "stream",
     "text": [
      "train features: Index(['wavelet-LLL_glrlm_RunEntropy', 'square_firstorder_Energy',\n",
      "       'log-sigma-1-mm-3D_glcm_Autocorrelation', 'lbp-3D-m1_glrlm_RunEntropy',\n",
      "       'wavelet-HHL_glrlm_LowGrayLevelRunEmphasis'],\n",
      "      dtype='object')\n",
      "test features: Index(['wavelet-LLL_glrlm_RunEntropy', 'square_firstorder_Energy',\n",
      "       'log-sigma-1-mm-3D_glcm_Autocorrelation', 'lbp-3D-m1_glrlm_RunEntropy',\n",
      "       'wavelet-HHL_glrlm_LowGrayLevelRunEmphasis'],\n",
      "      dtype='object')\n",
      "-------------------------------\n",
      "Job  22  is done\n",
      "Tox study round number \" 23\n",
      "-------------------------------\n",
      "Data splitting ...\n"
     ]
    },
    {
     "name": "stderr",
     "output_type": "stream",
     "text": [
      "/cluster/home/rreiazi/anaconda3/lib/python3.7/site-packages/sklearn/model_selection/_search.py:814: DeprecationWarning: The default of the `iid` parameter will change from True to False in version 0.22 and will be removed in 0.24. This will change numeric results when test-set sizes are unequal.\n",
      "  DeprecationWarning)\n"
     ]
    },
    {
     "name": "stdout",
     "output_type": "stream",
     "text": [
      "train features: Index(['wavelet-HLL_glszm_LargeAreaLowGrayLevelEmphasis',\n",
      "       'wavelet-HHH_gldm_HighGrayLevelEmphasis', 'lbp-3D-k_glcm_SumEntropy',\n",
      "       'square_glcm_DifferenceVariance',\n",
      "       'wavelet-LHH_glrlm_GrayLevelNonUniformityNormalized'],\n",
      "      dtype='object')\n",
      "test features: Index(['wavelet-HLL_glszm_LargeAreaLowGrayLevelEmphasis',\n",
      "       'wavelet-HHH_gldm_HighGrayLevelEmphasis', 'lbp-3D-k_glcm_SumEntropy',\n",
      "       'square_glcm_DifferenceVariance',\n",
      "       'wavelet-LHH_glrlm_GrayLevelNonUniformityNormalized'],\n",
      "      dtype='object')\n",
      "-------------------------------\n",
      "Job  23  is done\n",
      "Tox study round number \" 24\n",
      "-------------------------------\n",
      "Data splitting ...\n"
     ]
    },
    {
     "name": "stderr",
     "output_type": "stream",
     "text": [
      "/cluster/home/rreiazi/anaconda3/lib/python3.7/site-packages/sklearn/model_selection/_search.py:814: DeprecationWarning: The default of the `iid` parameter will change from True to False in version 0.22 and will be removed in 0.24. This will change numeric results when test-set sizes are unequal.\n",
      "  DeprecationWarning)\n"
     ]
    },
    {
     "name": "stdout",
     "output_type": "stream",
     "text": [
      "train features: Index(['wavelet-HLL_glcm_Id', 'original_glszm_HighGrayLevelZoneEmphasis',\n",
      "       'exponential_glcm_DifferenceVariance', 'gradient_glcm_Imc1',\n",
      "       'wavelet-LLL_glcm_Correlation'],\n",
      "      dtype='object')\n",
      "test features: Index(['wavelet-HLL_glcm_Id', 'original_glszm_HighGrayLevelZoneEmphasis',\n",
      "       'exponential_glcm_DifferenceVariance', 'gradient_glcm_Imc1',\n",
      "       'wavelet-LLL_glcm_Correlation'],\n",
      "      dtype='object')\n",
      "-------------------------------\n",
      "Job  24  is done\n",
      "Tox study round number \" 25\n",
      "-------------------------------\n",
      "Data splitting ...\n"
     ]
    },
    {
     "name": "stderr",
     "output_type": "stream",
     "text": [
      "/cluster/home/rreiazi/anaconda3/lib/python3.7/site-packages/sklearn/model_selection/_search.py:814: DeprecationWarning: The default of the `iid` parameter will change from True to False in version 0.22 and will be removed in 0.24. This will change numeric results when test-set sizes are unequal.\n",
      "  DeprecationWarning)\n"
     ]
    },
    {
     "name": "stdout",
     "output_type": "stream",
     "text": [
      "train features: Index(['wavelet-LLH_glszm_SizeZoneNonUniformity',\n",
      "       'lbp-3D-m2_gldm_SmallDependenceEmphasis',\n",
      "       'log-sigma-1-mm-3D_glcm_JointAverage',\n",
      "       'original_shape_Maximum2DDiameterColumn', 'gradient_firstorder_Range'],\n",
      "      dtype='object')\n",
      "test features: Index(['wavelet-LLH_glszm_SizeZoneNonUniformity',\n",
      "       'lbp-3D-m2_gldm_SmallDependenceEmphasis',\n",
      "       'log-sigma-1-mm-3D_glcm_JointAverage',\n",
      "       'original_shape_Maximum2DDiameterColumn', 'gradient_firstorder_Range'],\n",
      "      dtype='object')\n",
      "-------------------------------\n",
      "Job  25  is done\n",
      "Tox study round number \" 26\n",
      "-------------------------------\n",
      "Data splitting ...\n"
     ]
    },
    {
     "name": "stderr",
     "output_type": "stream",
     "text": [
      "/cluster/home/rreiazi/anaconda3/lib/python3.7/site-packages/sklearn/model_selection/_search.py:814: DeprecationWarning: The default of the `iid` parameter will change from True to False in version 0.22 and will be removed in 0.24. This will change numeric results when test-set sizes are unequal.\n",
      "  DeprecationWarning)\n"
     ]
    },
    {
     "name": "stdout",
     "output_type": "stream",
     "text": [
      "train features: Index(['wavelet-HHH_firstorder_MeanAbsoluteDeviation',\n",
      "       'original_glrlm_ShortRunEmphasis', 'lbp-3D-m2_firstorder_Entropy',\n",
      "       'wavelet-HLH_firstorder_10Percentile',\n",
      "       'wavelet-LHH_gldm_SmallDependenceEmphasis'],\n",
      "      dtype='object')\n",
      "test features: Index(['wavelet-HHH_firstorder_MeanAbsoluteDeviation',\n",
      "       'original_glrlm_ShortRunEmphasis', 'lbp-3D-m2_firstorder_Entropy',\n",
      "       'wavelet-HLH_firstorder_10Percentile',\n",
      "       'wavelet-LHH_gldm_SmallDependenceEmphasis'],\n",
      "      dtype='object')\n",
      "-------------------------------\n",
      "Job  26  is done\n",
      "Tox study round number \" 27\n",
      "-------------------------------\n",
      "Data splitting ...\n"
     ]
    },
    {
     "name": "stderr",
     "output_type": "stream",
     "text": [
      "/cluster/home/rreiazi/anaconda3/lib/python3.7/site-packages/sklearn/model_selection/_search.py:814: DeprecationWarning: The default of the `iid` parameter will change from True to False in version 0.22 and will be removed in 0.24. This will change numeric results when test-set sizes are unequal.\n",
      "  DeprecationWarning)\n"
     ]
    },
    {
     "name": "stdout",
     "output_type": "stream",
     "text": [
      "train features: Index(['lbp-3D-m1_glcm_Id', 'logarithm_glszm_SizeZoneNonUniformityNormalized',\n",
      "       'wavelet-HHH_glszm_LargeAreaEmphasis',\n",
      "       'wavelet-HLL_glrlm_RunLengthNonUniformity',\n",
      "       'log-sigma-1-mm-3D_glcm_Imc1'],\n",
      "      dtype='object')\n",
      "test features: Index(['lbp-3D-m1_glcm_Id', 'logarithm_glszm_SizeZoneNonUniformityNormalized',\n",
      "       'wavelet-HHH_glszm_LargeAreaEmphasis',\n",
      "       'wavelet-HLL_glrlm_RunLengthNonUniformity',\n",
      "       'log-sigma-1-mm-3D_glcm_Imc1'],\n",
      "      dtype='object')\n",
      "-------------------------------\n",
      "Job  27  is done\n",
      "Tox study round number \" 28\n",
      "-------------------------------\n",
      "Data splitting ...\n"
     ]
    },
    {
     "name": "stderr",
     "output_type": "stream",
     "text": [
      "/cluster/home/rreiazi/anaconda3/lib/python3.7/site-packages/sklearn/model_selection/_search.py:814: DeprecationWarning: The default of the `iid` parameter will change from True to False in version 0.22 and will be removed in 0.24. This will change numeric results when test-set sizes are unequal.\n",
      "  DeprecationWarning)\n"
     ]
    },
    {
     "name": "stdout",
     "output_type": "stream",
     "text": [
      "train features: Index(['log-sigma-1-mm-3D_glrlm_LongRunHighGrayLevelEmphasis',\n",
      "       'wavelet-LLL_firstorder_MeanAbsoluteDeviation',\n",
      "       'wavelet-HHH_glszm_SizeZoneNonUniformity',\n",
      "       'lbp-3D-m1_gldm_DependenceEntropy',\n",
      "       'square_gldm_LargeDependenceEmphasis'],\n",
      "      dtype='object')\n",
      "test features: Index(['log-sigma-1-mm-3D_glrlm_LongRunHighGrayLevelEmphasis',\n",
      "       'wavelet-LLL_firstorder_MeanAbsoluteDeviation',\n",
      "       'wavelet-HHH_glszm_SizeZoneNonUniformity',\n",
      "       'lbp-3D-m1_gldm_DependenceEntropy',\n",
      "       'square_gldm_LargeDependenceEmphasis'],\n",
      "      dtype='object')\n",
      "-------------------------------\n",
      "Job  28  is done\n",
      "Tox study round number \" 29\n",
      "-------------------------------\n",
      "Data splitting ...\n"
     ]
    },
    {
     "name": "stderr",
     "output_type": "stream",
     "text": [
      "/cluster/home/rreiazi/anaconda3/lib/python3.7/site-packages/sklearn/model_selection/_search.py:814: DeprecationWarning: The default of the `iid` parameter will change from True to False in version 0.22 and will be removed in 0.24. This will change numeric results when test-set sizes are unequal.\n",
      "  DeprecationWarning)\n"
     ]
    },
    {
     "name": "stdout",
     "output_type": "stream",
     "text": [
      "train features: Index(['wavelet-HLH_gldm_LargeDependenceLowGrayLevelEmphasis',\n",
      "       'lbp-3D-m2_glszm_GrayLevelNonUniformity',\n",
      "       'wavelet-HHH_glrlm_LongRunLowGrayLevelEmphasis',\n",
      "       'lbp-3D-m1_gldm_DependenceVariance', 'lbp-3D-m1_glcm_MCC'],\n",
      "      dtype='object')\n",
      "test features: Index(['wavelet-HLH_gldm_LargeDependenceLowGrayLevelEmphasis',\n",
      "       'lbp-3D-m2_glszm_GrayLevelNonUniformity',\n",
      "       'wavelet-HHH_glrlm_LongRunLowGrayLevelEmphasis',\n",
      "       'lbp-3D-m1_gldm_DependenceVariance', 'lbp-3D-m1_glcm_MCC'],\n",
      "      dtype='object')\n",
      "-------------------------------\n",
      "Job  29  is done\n",
      "Tox study round number \" 30\n",
      "-------------------------------\n",
      "Data splitting ...\n"
     ]
    },
    {
     "name": "stderr",
     "output_type": "stream",
     "text": [
      "/cluster/home/rreiazi/anaconda3/lib/python3.7/site-packages/sklearn/model_selection/_search.py:814: DeprecationWarning: The default of the `iid` parameter will change from True to False in version 0.22 and will be removed in 0.24. This will change numeric results when test-set sizes are unequal.\n",
      "  DeprecationWarning)\n"
     ]
    },
    {
     "name": "stdout",
     "output_type": "stream",
     "text": [
      "train features: Index(['log-sigma-3-mm-3D_glcm_DifferenceVariance',\n",
      "       'lbp-3D-m1_gldm_LargeDependenceHighGrayLevelEmphasis',\n",
      "       'original_glcm_Id', 'wavelet-HHH_glrlm_RunEntropy',\n",
      "       'gradient_glrlm_RunEntropy'],\n",
      "      dtype='object')\n",
      "test features: Index(['log-sigma-3-mm-3D_glcm_DifferenceVariance',\n",
      "       'lbp-3D-m1_gldm_LargeDependenceHighGrayLevelEmphasis',\n",
      "       'original_glcm_Id', 'wavelet-HHH_glrlm_RunEntropy',\n",
      "       'gradient_glrlm_RunEntropy'],\n",
      "      dtype='object')\n",
      "-------------------------------\n",
      "Job  30  is done\n",
      "Tox study round number \" 31\n",
      "-------------------------------\n",
      "Data splitting ...\n"
     ]
    },
    {
     "name": "stderr",
     "output_type": "stream",
     "text": [
      "/cluster/home/rreiazi/anaconda3/lib/python3.7/site-packages/sklearn/model_selection/_search.py:814: DeprecationWarning: The default of the `iid` parameter will change from True to False in version 0.22 and will be removed in 0.24. This will change numeric results when test-set sizes are unequal.\n",
      "  DeprecationWarning)\n"
     ]
    },
    {
     "name": "stdout",
     "output_type": "stream",
     "text": [
      "train features: Index(['wavelet-LLH_firstorder_Variance',\n",
      "       'log-sigma-3-mm-3D_firstorder_Maximum', 'squareroot_glcm_Contrast',\n",
      "       'lbp-3D-k_glrlm_RunPercentage',\n",
      "       'lbp-3D-m2_glszm_LowGrayLevelZoneEmphasis'],\n",
      "      dtype='object')\n",
      "test features: Index(['wavelet-LLH_firstorder_Variance',\n",
      "       'log-sigma-3-mm-3D_firstorder_Maximum', 'squareroot_glcm_Contrast',\n",
      "       'lbp-3D-k_glrlm_RunPercentage',\n",
      "       'lbp-3D-m2_glszm_LowGrayLevelZoneEmphasis'],\n",
      "      dtype='object')\n",
      "-------------------------------\n",
      "Job  31  is done\n",
      "Tox study round number \" 32\n",
      "-------------------------------\n",
      "Data splitting ...\n"
     ]
    },
    {
     "name": "stderr",
     "output_type": "stream",
     "text": [
      "/cluster/home/rreiazi/anaconda3/lib/python3.7/site-packages/sklearn/model_selection/_search.py:814: DeprecationWarning: The default of the `iid` parameter will change from True to False in version 0.22 and will be removed in 0.24. This will change numeric results when test-set sizes are unequal.\n",
      "  DeprecationWarning)\n"
     ]
    },
    {
     "name": "stdout",
     "output_type": "stream",
     "text": [
      "train features: Index(['wavelet-HLH_glcm_ClusterProminence',\n",
      "       'exponential_glrlm_HighGrayLevelRunEmphasis',\n",
      "       'wavelet-HHL_gldm_GrayLevelNonUniformity',\n",
      "       'gradient_gldm_LargeDependenceLowGrayLevelEmphasis',\n",
      "       'wavelet-HLL_glrlm_ShortRunLowGrayLevelEmphasis'],\n",
      "      dtype='object')\n",
      "test features: Index(['wavelet-HLH_glcm_ClusterProminence',\n",
      "       'exponential_glrlm_HighGrayLevelRunEmphasis',\n",
      "       'wavelet-HHL_gldm_GrayLevelNonUniformity',\n",
      "       'gradient_gldm_LargeDependenceLowGrayLevelEmphasis',\n",
      "       'wavelet-HLL_glrlm_ShortRunLowGrayLevelEmphasis'],\n",
      "      dtype='object')\n",
      "-------------------------------\n",
      "Job  32  is done\n",
      "Tox study round number \" 33\n",
      "-------------------------------\n",
      "Data splitting ...\n"
     ]
    },
    {
     "name": "stderr",
     "output_type": "stream",
     "text": [
      "/cluster/home/rreiazi/anaconda3/lib/python3.7/site-packages/sklearn/model_selection/_search.py:814: DeprecationWarning: The default of the `iid` parameter will change from True to False in version 0.22 and will be removed in 0.24. This will change numeric results when test-set sizes are unequal.\n",
      "  DeprecationWarning)\n"
     ]
    },
    {
     "name": "stdout",
     "output_type": "stream",
     "text": [
      "train features: Index(['squareroot_glcm_Idmn', 'wavelet-HLH_gldm_DependenceVariance',\n",
      "       'log-sigma-1-mm-3D_gldm_SmallDependenceLowGrayLevelEmphasis',\n",
      "       'original_shape_Maximum2DDiameterColumn',\n",
      "       'exponential_firstorder_Median'],\n",
      "      dtype='object')\n",
      "test features: Index(['squareroot_glcm_Idmn', 'wavelet-HLH_gldm_DependenceVariance',\n",
      "       'log-sigma-1-mm-3D_gldm_SmallDependenceLowGrayLevelEmphasis',\n",
      "       'original_shape_Maximum2DDiameterColumn',\n",
      "       'exponential_firstorder_Median'],\n",
      "      dtype='object')\n",
      "-------------------------------\n",
      "Job  33  is done\n",
      "Tox study round number \" 34\n",
      "-------------------------------\n",
      "Data splitting ...\n"
     ]
    },
    {
     "name": "stderr",
     "output_type": "stream",
     "text": [
      "/cluster/home/rreiazi/anaconda3/lib/python3.7/site-packages/sklearn/model_selection/_search.py:814: DeprecationWarning: The default of the `iid` parameter will change from True to False in version 0.22 and will be removed in 0.24. This will change numeric results when test-set sizes are unequal.\n",
      "  DeprecationWarning)\n"
     ]
    },
    {
     "name": "stdout",
     "output_type": "stream",
     "text": [
      "train features: Index(['squareroot_glcm_JointEnergy',\n",
      "       'original_glszm_SmallAreaLowGrayLevelEmphasis',\n",
      "       'log-sigma-1-mm-3D_glrlm_ShortRunLowGrayLevelEmphasis',\n",
      "       'lbp-3D-m1_firstorder_RobustMeanAbsoluteDeviation',\n",
      "       'wavelet-HLH_glcm_DifferenceVariance'],\n",
      "      dtype='object')\n",
      "test features: Index(['squareroot_glcm_JointEnergy',\n",
      "       'original_glszm_SmallAreaLowGrayLevelEmphasis',\n",
      "       'log-sigma-1-mm-3D_glrlm_ShortRunLowGrayLevelEmphasis',\n",
      "       'lbp-3D-m1_firstorder_RobustMeanAbsoluteDeviation',\n",
      "       'wavelet-HLH_glcm_DifferenceVariance'],\n",
      "      dtype='object')\n",
      "-------------------------------\n",
      "Job  34  is done\n",
      "Tox study round number \" 35\n",
      "-------------------------------\n",
      "Data splitting ...\n"
     ]
    },
    {
     "name": "stderr",
     "output_type": "stream",
     "text": [
      "/cluster/home/rreiazi/anaconda3/lib/python3.7/site-packages/sklearn/model_selection/_search.py:814: DeprecationWarning: The default of the `iid` parameter will change from True to False in version 0.22 and will be removed in 0.24. This will change numeric results when test-set sizes are unequal.\n",
      "  DeprecationWarning)\n"
     ]
    },
    {
     "name": "stdout",
     "output_type": "stream",
     "text": [
      "train features: Index(['wavelet-HLL_glszm_SmallAreaLowGrayLevelEmphasis',\n",
      "       'square_glrlm_RunPercentage', 'wavelet-LHL_firstorder_Uniformity',\n",
      "       'wavelet-HLL_firstorder_Skewness', 'exponential_firstorder_Uniformity'],\n",
      "      dtype='object')\n",
      "test features: Index(['wavelet-HLL_glszm_SmallAreaLowGrayLevelEmphasis',\n",
      "       'square_glrlm_RunPercentage', 'wavelet-LHL_firstorder_Uniformity',\n",
      "       'wavelet-HLL_firstorder_Skewness', 'exponential_firstorder_Uniformity'],\n",
      "      dtype='object')\n",
      "-------------------------------\n",
      "Job  35  is done\n",
      "Tox study round number \" 36\n",
      "-------------------------------\n",
      "Data splitting ...\n"
     ]
    },
    {
     "name": "stderr",
     "output_type": "stream",
     "text": [
      "/cluster/home/rreiazi/anaconda3/lib/python3.7/site-packages/sklearn/model_selection/_search.py:814: DeprecationWarning: The default of the `iid` parameter will change from True to False in version 0.22 and will be removed in 0.24. This will change numeric results when test-set sizes are unequal.\n",
      "  DeprecationWarning)\n"
     ]
    },
    {
     "name": "stdout",
     "output_type": "stream",
     "text": [
      "train features: Index(['wavelet-HLL_firstorder_RobustMeanAbsoluteDeviation',\n",
      "       'wavelet-HHL_firstorder_Uniformity', 'gradient_glszm_ZoneVariance',\n",
      "       'wavelet-HLL_glcm_Correlation', 'logarithm_firstorder_Variance'],\n",
      "      dtype='object')\n",
      "test features: Index(['wavelet-HLL_firstorder_RobustMeanAbsoluteDeviation',\n",
      "       'wavelet-HHL_firstorder_Uniformity', 'gradient_glszm_ZoneVariance',\n",
      "       'wavelet-HLL_glcm_Correlation', 'logarithm_firstorder_Variance'],\n",
      "      dtype='object')\n",
      "-------------------------------\n",
      "Job  36  is done\n",
      "Tox study round number \" 37\n",
      "-------------------------------\n",
      "Data splitting ...\n"
     ]
    },
    {
     "name": "stderr",
     "output_type": "stream",
     "text": [
      "/cluster/home/rreiazi/anaconda3/lib/python3.7/site-packages/sklearn/model_selection/_search.py:814: DeprecationWarning: The default of the `iid` parameter will change from True to False in version 0.22 and will be removed in 0.24. This will change numeric results when test-set sizes are unequal.\n",
      "  DeprecationWarning)\n"
     ]
    },
    {
     "name": "stdout",
     "output_type": "stream",
     "text": [
      "train features: Index(['gradient_glcm_SumEntropy',\n",
      "       'wavelet-HLL_glszm_SizeZoneNonUniformityNormalized',\n",
      "       'lbp-3D-k_gldm_SmallDependenceHighGrayLevelEmphasis',\n",
      "       'exponential_glcm_JointEntropy', 'lbp-3D-m1_glszm_ZoneEntropy'],\n",
      "      dtype='object')\n",
      "test features: Index(['gradient_glcm_SumEntropy',\n",
      "       'wavelet-HLL_glszm_SizeZoneNonUniformityNormalized',\n",
      "       'lbp-3D-k_gldm_SmallDependenceHighGrayLevelEmphasis',\n",
      "       'exponential_glcm_JointEntropy', 'lbp-3D-m1_glszm_ZoneEntropy'],\n",
      "      dtype='object')\n",
      "-------------------------------\n",
      "Job  37  is done\n",
      "Tox study round number \" 38\n",
      "-------------------------------\n",
      "Data splitting ...\n"
     ]
    },
    {
     "name": "stderr",
     "output_type": "stream",
     "text": [
      "/cluster/home/rreiazi/anaconda3/lib/python3.7/site-packages/sklearn/model_selection/_search.py:814: DeprecationWarning: The default of the `iid` parameter will change from True to False in version 0.22 and will be removed in 0.24. This will change numeric results when test-set sizes are unequal.\n",
      "  DeprecationWarning)\n"
     ]
    },
    {
     "name": "stdout",
     "output_type": "stream",
     "text": [
      "train features: Index(['wavelet-LHL_gldm_SmallDependenceEmphasis',\n",
      "       'lbp-3D-m1_glcm_JointEnergy', 'square_glcm_Autocorrelation',\n",
      "       'lbp-3D-m1_gldm_HighGrayLevelEmphasis',\n",
      "       'wavelet-LHH_firstorder_Skewness'],\n",
      "      dtype='object')\n",
      "test features: Index(['wavelet-LHL_gldm_SmallDependenceEmphasis',\n",
      "       'lbp-3D-m1_glcm_JointEnergy', 'square_glcm_Autocorrelation',\n",
      "       'lbp-3D-m1_gldm_HighGrayLevelEmphasis',\n",
      "       'wavelet-LHH_firstorder_Skewness'],\n",
      "      dtype='object')\n",
      "-------------------------------\n",
      "Job  38  is done\n",
      "Tox study round number \" 39\n",
      "-------------------------------\n",
      "Data splitting ...\n"
     ]
    },
    {
     "name": "stderr",
     "output_type": "stream",
     "text": [
      "/cluster/home/rreiazi/anaconda3/lib/python3.7/site-packages/sklearn/model_selection/_search.py:814: DeprecationWarning: The default of the `iid` parameter will change from True to False in version 0.22 and will be removed in 0.24. This will change numeric results when test-set sizes are unequal.\n",
      "  DeprecationWarning)\n"
     ]
    },
    {
     "name": "stdout",
     "output_type": "stream",
     "text": [
      "train features: Index(['exponential_gldm_LargeDependenceEmphasis',\n",
      "       'wavelet-LHH_glrlm_RunPercentage',\n",
      "       'wavelet-HLH_glcm_DifferenceVariance',\n",
      "       'wavelet-HHH_glszm_GrayLevelVariance', 'exponential_glszm_ZoneEntropy'],\n",
      "      dtype='object')\n",
      "test features: Index(['exponential_gldm_LargeDependenceEmphasis',\n",
      "       'wavelet-LHH_glrlm_RunPercentage',\n",
      "       'wavelet-HLH_glcm_DifferenceVariance',\n",
      "       'wavelet-HHH_glszm_GrayLevelVariance', 'exponential_glszm_ZoneEntropy'],\n",
      "      dtype='object')\n",
      "-------------------------------\n",
      "Job  39  is done\n",
      "Tox study round number \" 40\n",
      "-------------------------------\n",
      "Data splitting ...\n"
     ]
    },
    {
     "name": "stderr",
     "output_type": "stream",
     "text": [
      "/cluster/home/rreiazi/anaconda3/lib/python3.7/site-packages/sklearn/model_selection/_search.py:814: DeprecationWarning: The default of the `iid` parameter will change from True to False in version 0.22 and will be removed in 0.24. This will change numeric results when test-set sizes are unequal.\n",
      "  DeprecationWarning)\n"
     ]
    },
    {
     "name": "stdout",
     "output_type": "stream",
     "text": [
      "train features: Index(['log-sigma-3-mm-3D_gldm_DependenceNonUniformityNormalized',\n",
      "       'wavelet-LHL_glszm_SizeZoneNonUniformityNormalized',\n",
      "       'wavelet-LHL_firstorder_Kurtosis', 'lbp-3D-m1_glszm_GrayLevelVariance',\n",
      "       'original_gldm_LowGrayLevelEmphasis'],\n",
      "      dtype='object')\n",
      "test features: Index(['log-sigma-3-mm-3D_gldm_DependenceNonUniformityNormalized',\n",
      "       'wavelet-LHL_glszm_SizeZoneNonUniformityNormalized',\n",
      "       'wavelet-LHL_firstorder_Kurtosis', 'lbp-3D-m1_glszm_GrayLevelVariance',\n",
      "       'original_gldm_LowGrayLevelEmphasis'],\n",
      "      dtype='object')\n",
      "-------------------------------\n",
      "Job  40  is done\n",
      "Tox study round number \" 41\n",
      "-------------------------------\n",
      "Data splitting ...\n"
     ]
    },
    {
     "name": "stderr",
     "output_type": "stream",
     "text": [
      "/cluster/home/rreiazi/anaconda3/lib/python3.7/site-packages/sklearn/model_selection/_search.py:814: DeprecationWarning: The default of the `iid` parameter will change from True to False in version 0.22 and will be removed in 0.24. This will change numeric results when test-set sizes are unequal.\n",
      "  DeprecationWarning)\n"
     ]
    },
    {
     "name": "stdout",
     "output_type": "stream",
     "text": [
      "train features: Index(['wavelet-LLL_glszm_ZoneVariance', 'exponential_glcm_Imc2',\n",
      "       'wavelet-LHL_glszm_LargeAreaEmphasis', 'wavelet-LHH_glrlm_RunVariance',\n",
      "       'exponential_gldm_DependenceVariance'],\n",
      "      dtype='object')\n",
      "test features: Index(['wavelet-LLL_glszm_ZoneVariance', 'exponential_glcm_Imc2',\n",
      "       'wavelet-LHL_glszm_LargeAreaEmphasis', 'wavelet-LHH_glrlm_RunVariance',\n",
      "       'exponential_gldm_DependenceVariance'],\n",
      "      dtype='object')\n",
      "-------------------------------\n",
      "Job  41  is done\n",
      "Tox study round number \" 42\n",
      "-------------------------------\n",
      "Data splitting ...\n"
     ]
    },
    {
     "name": "stderr",
     "output_type": "stream",
     "text": [
      "/cluster/home/rreiazi/anaconda3/lib/python3.7/site-packages/sklearn/model_selection/_search.py:814: DeprecationWarning: The default of the `iid` parameter will change from True to False in version 0.22 and will be removed in 0.24. This will change numeric results when test-set sizes are unequal.\n",
      "  DeprecationWarning)\n"
     ]
    },
    {
     "name": "stdout",
     "output_type": "stream",
     "text": [
      "train features: Index(['log-sigma-3-mm-3D_glcm_JointEntropy',\n",
      "       'wavelet-HLH_glcm_InverseVariance',\n",
      "       'exponential_firstorder_10Percentile',\n",
      "       'lbp-3D-m2_glszm_HighGrayLevelZoneEmphasis',\n",
      "       'lbp-3D-k_glcm_SumSquares'],\n",
      "      dtype='object')\n",
      "test features: Index(['log-sigma-3-mm-3D_glcm_JointEntropy',\n",
      "       'wavelet-HLH_glcm_InverseVariance',\n",
      "       'exponential_firstorder_10Percentile',\n",
      "       'lbp-3D-m2_glszm_HighGrayLevelZoneEmphasis',\n",
      "       'lbp-3D-k_glcm_SumSquares'],\n",
      "      dtype='object')\n",
      "-------------------------------\n",
      "Job  42  is done\n",
      "Tox study round number \" 43\n",
      "-------------------------------\n",
      "Data splitting ...\n"
     ]
    },
    {
     "name": "stderr",
     "output_type": "stream",
     "text": [
      "/cluster/home/rreiazi/anaconda3/lib/python3.7/site-packages/sklearn/model_selection/_search.py:814: DeprecationWarning: The default of the `iid` parameter will change from True to False in version 0.22 and will be removed in 0.24. This will change numeric results when test-set sizes are unequal.\n",
      "  DeprecationWarning)\n"
     ]
    },
    {
     "name": "stdout",
     "output_type": "stream",
     "text": [
      "train features: Index(['gradient_gldm_LargeDependenceLowGrayLevelEmphasis',\n",
      "       'log-sigma-3-mm-3D_firstorder_Skewness',\n",
      "       'wavelet-LLH_firstorder_Skewness', 'log-sigma-2-mm-3D_firstorder_Range',\n",
      "       'lbp-3D-m2_glrlm_ShortRunHighGrayLevelEmphasis'],\n",
      "      dtype='object')\n",
      "test features: Index(['gradient_gldm_LargeDependenceLowGrayLevelEmphasis',\n",
      "       'log-sigma-3-mm-3D_firstorder_Skewness',\n",
      "       'wavelet-LLH_firstorder_Skewness', 'log-sigma-2-mm-3D_firstorder_Range',\n",
      "       'lbp-3D-m2_glrlm_ShortRunHighGrayLevelEmphasis'],\n",
      "      dtype='object')\n",
      "-------------------------------\n",
      "Job  43  is done\n",
      "Tox study round number \" 44\n",
      "-------------------------------\n",
      "Data splitting ...\n"
     ]
    },
    {
     "name": "stderr",
     "output_type": "stream",
     "text": [
      "/cluster/home/rreiazi/anaconda3/lib/python3.7/site-packages/sklearn/model_selection/_search.py:814: DeprecationWarning: The default of the `iid` parameter will change from True to False in version 0.22 and will be removed in 0.24. This will change numeric results when test-set sizes are unequal.\n",
      "  DeprecationWarning)\n"
     ]
    },
    {
     "name": "stdout",
     "output_type": "stream",
     "text": [
      "train features: Index(['lbp-3D-m2_firstorder_RobustMeanAbsoluteDeviation',\n",
      "       'gradient_gldm_SmallDependenceEmphasis',\n",
      "       'lbp-3D-m2_glrlm_ShortRunEmphasis',\n",
      "       'wavelet-LLL_gldm_SmallDependenceHighGrayLevelEmphasis',\n",
      "       'lbp-3D-m1_firstorder_Median'],\n",
      "      dtype='object')\n",
      "test features: Index(['lbp-3D-m2_firstorder_RobustMeanAbsoluteDeviation',\n",
      "       'gradient_gldm_SmallDependenceEmphasis',\n",
      "       'lbp-3D-m2_glrlm_ShortRunEmphasis',\n",
      "       'wavelet-LLL_gldm_SmallDependenceHighGrayLevelEmphasis',\n",
      "       'lbp-3D-m1_firstorder_Median'],\n",
      "      dtype='object')\n",
      "-------------------------------\n",
      "Job  44  is done\n",
      "Tox study round number \" 45\n",
      "-------------------------------\n",
      "Data splitting ...\n"
     ]
    },
    {
     "name": "stderr",
     "output_type": "stream",
     "text": [
      "/cluster/home/rreiazi/anaconda3/lib/python3.7/site-packages/sklearn/model_selection/_search.py:814: DeprecationWarning: The default of the `iid` parameter will change from True to False in version 0.22 and will be removed in 0.24. This will change numeric results when test-set sizes are unequal.\n",
      "  DeprecationWarning)\n"
     ]
    },
    {
     "name": "stdout",
     "output_type": "stream",
     "text": [
      "train features: Index(['lbp-3D-k_glrlm_GrayLevelVariance', 'wavelet-HHH_glcm_InverseVariance',\n",
      "       'log-sigma-2-mm-3D_firstorder_10Percentile', 'wavelet-LHL_glcm_Id',\n",
      "       'lbp-3D-m2_firstorder_RobustMeanAbsoluteDeviation'],\n",
      "      dtype='object')\n",
      "test features: Index(['lbp-3D-k_glrlm_GrayLevelVariance', 'wavelet-HHH_glcm_InverseVariance',\n",
      "       'log-sigma-2-mm-3D_firstorder_10Percentile', 'wavelet-LHL_glcm_Id',\n",
      "       'lbp-3D-m2_firstorder_RobustMeanAbsoluteDeviation'],\n",
      "      dtype='object')\n",
      "-------------------------------\n",
      "Job  45  is done\n",
      "Tox study round number \" 46\n",
      "-------------------------------\n",
      "Data splitting ...\n"
     ]
    },
    {
     "name": "stderr",
     "output_type": "stream",
     "text": [
      "/cluster/home/rreiazi/anaconda3/lib/python3.7/site-packages/sklearn/model_selection/_search.py:814: DeprecationWarning: The default of the `iid` parameter will change from True to False in version 0.22 and will be removed in 0.24. This will change numeric results when test-set sizes are unequal.\n",
      "  DeprecationWarning)\n"
     ]
    },
    {
     "name": "stdout",
     "output_type": "stream",
     "text": [
      "train features: Index(['wavelet-LLH_glrlm_LongRunEmphasis',\n",
      "       'wavelet-HLL_glszm_GrayLevelNonUniformityNormalized',\n",
      "       'exponential_glcm_SumEntropy', 'lbp-3D-k_glszm_GrayLevelNonUniformity',\n",
      "       'wavelet-LHH_glszm_SmallAreaHighGrayLevelEmphasis'],\n",
      "      dtype='object')\n",
      "test features: Index(['wavelet-LLH_glrlm_LongRunEmphasis',\n",
      "       'wavelet-HLL_glszm_GrayLevelNonUniformityNormalized',\n",
      "       'exponential_glcm_SumEntropy', 'lbp-3D-k_glszm_GrayLevelNonUniformity',\n",
      "       'wavelet-LHH_glszm_SmallAreaHighGrayLevelEmphasis'],\n",
      "      dtype='object')\n",
      "-------------------------------\n",
      "Job  46  is done\n",
      "Tox study round number \" 47\n",
      "-------------------------------\n",
      "Data splitting ...\n"
     ]
    },
    {
     "name": "stderr",
     "output_type": "stream",
     "text": [
      "/cluster/home/rreiazi/anaconda3/lib/python3.7/site-packages/sklearn/model_selection/_search.py:814: DeprecationWarning: The default of the `iid` parameter will change from True to False in version 0.22 and will be removed in 0.24. This will change numeric results when test-set sizes are unequal.\n",
      "  DeprecationWarning)\n"
     ]
    },
    {
     "name": "stdout",
     "output_type": "stream",
     "text": [
      "train features: Index(['wavelet-HHL_glszm_SmallAreaLowGrayLevelEmphasis',\n",
      "       'exponential_glszm_LowGrayLevelZoneEmphasis',\n",
      "       'wavelet-LLL_gldm_LargeDependenceLowGrayLevelEmphasis',\n",
      "       'lbp-3D-m1_glcm_SumSquares', 'lbp-3D-m2_glszm_GrayLevelVariance'],\n",
      "      dtype='object')\n",
      "test features: Index(['wavelet-HHL_glszm_SmallAreaLowGrayLevelEmphasis',\n",
      "       'exponential_glszm_LowGrayLevelZoneEmphasis',\n",
      "       'wavelet-LLL_gldm_LargeDependenceLowGrayLevelEmphasis',\n",
      "       'lbp-3D-m1_glcm_SumSquares', 'lbp-3D-m2_glszm_GrayLevelVariance'],\n",
      "      dtype='object')\n",
      "-------------------------------\n",
      "Job  47  is done\n",
      "Tox study round number \" 48\n",
      "-------------------------------\n",
      "Data splitting ...\n"
     ]
    },
    {
     "name": "stderr",
     "output_type": "stream",
     "text": [
      "/cluster/home/rreiazi/anaconda3/lib/python3.7/site-packages/sklearn/model_selection/_search.py:814: DeprecationWarning: The default of the `iid` parameter will change from True to False in version 0.22 and will be removed in 0.24. This will change numeric results when test-set sizes are unequal.\n",
      "  DeprecationWarning)\n"
     ]
    },
    {
     "name": "stdout",
     "output_type": "stream",
     "text": [
      "train features: Index(['lbp-3D-m1_firstorder_Uniformity', 'wavelet-HHL_glcm_SumAverage',\n",
      "       'wavelet-LLL_firstorder_10Percentile',\n",
      "       'lbp-3D-k_glszm_GrayLevelVariance',\n",
      "       'log-sigma-3-mm-3D_glrlm_RunLengthNonUniformity'],\n",
      "      dtype='object')\n",
      "test features: Index(['lbp-3D-m1_firstorder_Uniformity', 'wavelet-HHL_glcm_SumAverage',\n",
      "       'wavelet-LLL_firstorder_10Percentile',\n",
      "       'lbp-3D-k_glszm_GrayLevelVariance',\n",
      "       'log-sigma-3-mm-3D_glrlm_RunLengthNonUniformity'],\n",
      "      dtype='object')\n",
      "-------------------------------\n",
      "Job  48  is done\n",
      "Tox study round number \" 49\n",
      "-------------------------------\n",
      "Data splitting ...\n"
     ]
    },
    {
     "name": "stderr",
     "output_type": "stream",
     "text": [
      "/cluster/home/rreiazi/anaconda3/lib/python3.7/site-packages/sklearn/model_selection/_search.py:814: DeprecationWarning: The default of the `iid` parameter will change from True to False in version 0.22 and will be removed in 0.24. This will change numeric results when test-set sizes are unequal.\n",
      "  DeprecationWarning)\n"
     ]
    },
    {
     "name": "stdout",
     "output_type": "stream",
     "text": [
      "train features: Index(['exponential_glcm_JointEnergy', 'wavelet-LLH_firstorder_Skewness',\n",
      "       'original_shape_MajorAxisLength', 'wavelet-HHL_glrlm_GrayLevelVariance',\n",
      "       'wavelet-HLL_glcm_Imc2'],\n",
      "      dtype='object')\n",
      "test features: Index(['exponential_glcm_JointEnergy', 'wavelet-LLH_firstorder_Skewness',\n",
      "       'original_shape_MajorAxisLength', 'wavelet-HHL_glrlm_GrayLevelVariance',\n",
      "       'wavelet-HLL_glcm_Imc2'],\n",
      "      dtype='object')\n",
      "-------------------------------\n",
      "Job  49  is done\n",
      "Tox study round number \" 50\n",
      "-------------------------------\n",
      "Data splitting ...\n"
     ]
    },
    {
     "name": "stderr",
     "output_type": "stream",
     "text": [
      "/cluster/home/rreiazi/anaconda3/lib/python3.7/site-packages/sklearn/model_selection/_search.py:814: DeprecationWarning: The default of the `iid` parameter will change from True to False in version 0.22 and will be removed in 0.24. This will change numeric results when test-set sizes are unequal.\n",
      "  DeprecationWarning)\n"
     ]
    },
    {
     "name": "stdout",
     "output_type": "stream",
     "text": [
      "train features: Index(['original_shape_Maximum2DDiameterRow', 'original_glszm_ZoneEntropy',\n",
      "       'wavelet-LHL_glcm_ClusterTendency', 'gradient_firstorder_Range',\n",
      "       'wavelet-LLL_firstorder_Entropy'],\n",
      "      dtype='object')\n",
      "test features: Index(['original_shape_Maximum2DDiameterRow', 'original_glszm_ZoneEntropy',\n",
      "       'wavelet-LHL_glcm_ClusterTendency', 'gradient_firstorder_Range',\n",
      "       'wavelet-LLL_firstorder_Entropy'],\n",
      "      dtype='object')\n",
      "-------------------------------\n",
      "Job  50  is done\n",
      "Tox study round number \" 51\n",
      "-------------------------------\n",
      "Data splitting ...\n"
     ]
    },
    {
     "name": "stderr",
     "output_type": "stream",
     "text": [
      "/cluster/home/rreiazi/anaconda3/lib/python3.7/site-packages/sklearn/model_selection/_search.py:814: DeprecationWarning: The default of the `iid` parameter will change from True to False in version 0.22 and will be removed in 0.24. This will change numeric results when test-set sizes are unequal.\n",
      "  DeprecationWarning)\n"
     ]
    },
    {
     "name": "stdout",
     "output_type": "stream",
     "text": [
      "train features: Index(['wavelet-LLL_glcm_ClusterProminence', 'wavelet-LHH_glcm_Idm',\n",
      "       'squareroot_glcm_JointAverage',\n",
      "       'lbp-3D-k_firstorder_InterquartileRange',\n",
      "       'lbp-3D-k_glszm_GrayLevelNonUniformityNormalized'],\n",
      "      dtype='object')\n",
      "test features: Index(['wavelet-LLL_glcm_ClusterProminence', 'wavelet-LHH_glcm_Idm',\n",
      "       'squareroot_glcm_JointAverage',\n",
      "       'lbp-3D-k_firstorder_InterquartileRange',\n",
      "       'lbp-3D-k_glszm_GrayLevelNonUniformityNormalized'],\n",
      "      dtype='object')\n",
      "-------------------------------\n",
      "Job  51  is done\n",
      "Tox study round number \" 52\n",
      "-------------------------------\n",
      "Data splitting ...\n"
     ]
    },
    {
     "name": "stderr",
     "output_type": "stream",
     "text": [
      "/cluster/home/rreiazi/anaconda3/lib/python3.7/site-packages/sklearn/model_selection/_search.py:814: DeprecationWarning: The default of the `iid` parameter will change from True to False in version 0.22 and will be removed in 0.24. This will change numeric results when test-set sizes are unequal.\n",
      "  DeprecationWarning)\n"
     ]
    },
    {
     "name": "stdout",
     "output_type": "stream",
     "text": [
      "train features: Index(['lbp-3D-m2_gldm_HighGrayLevelEmphasis',\n",
      "       'wavelet-HLL_glszm_SizeZoneNonUniformityNormalized',\n",
      "       'logarithm_glcm_JointEntropy', 'lbp-3D-m2_glcm_DifferenceAverage',\n",
      "       'wavelet-HLL_gldm_DependenceNonUniformity'],\n",
      "      dtype='object')\n",
      "test features: Index(['lbp-3D-m2_gldm_HighGrayLevelEmphasis',\n",
      "       'wavelet-HLL_glszm_SizeZoneNonUniformityNormalized',\n",
      "       'logarithm_glcm_JointEntropy', 'lbp-3D-m2_glcm_DifferenceAverage',\n",
      "       'wavelet-HLL_gldm_DependenceNonUniformity'],\n",
      "      dtype='object')\n",
      "-------------------------------\n",
      "Job  52  is done\n",
      "Tox study round number \" 53\n",
      "-------------------------------\n",
      "Data splitting ...\n"
     ]
    },
    {
     "name": "stderr",
     "output_type": "stream",
     "text": [
      "/cluster/home/rreiazi/anaconda3/lib/python3.7/site-packages/sklearn/model_selection/_search.py:814: DeprecationWarning: The default of the `iid` parameter will change from True to False in version 0.22 and will be removed in 0.24. This will change numeric results when test-set sizes are unequal.\n",
      "  DeprecationWarning)\n"
     ]
    },
    {
     "name": "stdout",
     "output_type": "stream",
     "text": [
      "train features: Index(['lbp-3D-k_glszm_GrayLevelNonUniformity', 'log-sigma-2-mm-3D_glcm_MCC',\n",
      "       'wavelet-HHL_glrlm_LongRunEmphasis',\n",
      "       'lbp-3D-m2_gldm_LowGrayLevelEmphasis',\n",
      "       'original_glrlm_RunLengthNonUniformity'],\n",
      "      dtype='object')\n",
      "test features: Index(['lbp-3D-k_glszm_GrayLevelNonUniformity', 'log-sigma-2-mm-3D_glcm_MCC',\n",
      "       'wavelet-HHL_glrlm_LongRunEmphasis',\n",
      "       'lbp-3D-m2_gldm_LowGrayLevelEmphasis',\n",
      "       'original_glrlm_RunLengthNonUniformity'],\n",
      "      dtype='object')\n",
      "-------------------------------\n",
      "Job  53  is done\n",
      "Tox study round number \" 54\n",
      "-------------------------------\n",
      "Data splitting ...\n"
     ]
    },
    {
     "name": "stderr",
     "output_type": "stream",
     "text": [
      "/cluster/home/rreiazi/anaconda3/lib/python3.7/site-packages/sklearn/model_selection/_search.py:814: DeprecationWarning: The default of the `iid` parameter will change from True to False in version 0.22 and will be removed in 0.24. This will change numeric results when test-set sizes are unequal.\n",
      "  DeprecationWarning)\n"
     ]
    },
    {
     "name": "stdout",
     "output_type": "stream",
     "text": [
      "train features: Index(['exponential_glcm_Idmn', 'wavelet-HLH_glrlm_ShortRunEmphasis',\n",
      "       'exponential_glszm_SizeZoneNonUniformityNormalized',\n",
      "       'original_glcm_InverseVariance', 'square_glcm_SumSquares'],\n",
      "      dtype='object')\n",
      "test features: Index(['exponential_glcm_Idmn', 'wavelet-HLH_glrlm_ShortRunEmphasis',\n",
      "       'exponential_glszm_SizeZoneNonUniformityNormalized',\n",
      "       'original_glcm_InverseVariance', 'square_glcm_SumSquares'],\n",
      "      dtype='object')\n",
      "-------------------------------\n",
      "Job  54  is done\n",
      "Tox study round number \" 55\n",
      "-------------------------------\n",
      "Data splitting ...\n"
     ]
    },
    {
     "name": "stderr",
     "output_type": "stream",
     "text": [
      "/cluster/home/rreiazi/anaconda3/lib/python3.7/site-packages/sklearn/model_selection/_search.py:814: DeprecationWarning: The default of the `iid` parameter will change from True to False in version 0.22 and will be removed in 0.24. This will change numeric results when test-set sizes are unequal.\n",
      "  DeprecationWarning)\n"
     ]
    },
    {
     "name": "stdout",
     "output_type": "stream",
     "text": [
      "train features: Index(['wavelet-LHL_glrlm_RunEntropy', 'log-sigma-1-mm-3D_glcm_JointEntropy',\n",
      "       'wavelet-LHH_glszm_LargeAreaEmphasis',\n",
      "       'lbp-3D-k_glszm_LargeAreaEmphasis',\n",
      "       'squareroot_glszm_SmallAreaEmphasis'],\n",
      "      dtype='object')\n",
      "test features: Index(['wavelet-LHL_glrlm_RunEntropy', 'log-sigma-1-mm-3D_glcm_JointEntropy',\n",
      "       'wavelet-LHH_glszm_LargeAreaEmphasis',\n",
      "       'lbp-3D-k_glszm_LargeAreaEmphasis',\n",
      "       'squareroot_glszm_SmallAreaEmphasis'],\n",
      "      dtype='object')\n",
      "-------------------------------\n",
      "Job  55  is done\n",
      "Tox study round number \" 56\n",
      "-------------------------------\n",
      "Data splitting ...\n"
     ]
    },
    {
     "name": "stderr",
     "output_type": "stream",
     "text": [
      "/cluster/home/rreiazi/anaconda3/lib/python3.7/site-packages/sklearn/model_selection/_search.py:814: DeprecationWarning: The default of the `iid` parameter will change from True to False in version 0.22 and will be removed in 0.24. This will change numeric results when test-set sizes are unequal.\n",
      "  DeprecationWarning)\n"
     ]
    },
    {
     "name": "stdout",
     "output_type": "stream",
     "text": [
      "train features: Index(['wavelet-HHH_glcm_InverseVariance', 'original_glcm_JointEnergy',\n",
      "       'wavelet-LHL_firstorder_RootMeanSquared',\n",
      "       'wavelet-LHH_glszm_ZoneEntropy', 'wavelet-LLH_gldm_DependenceVariance'],\n",
      "      dtype='object')\n",
      "test features: Index(['wavelet-HHH_glcm_InverseVariance', 'original_glcm_JointEnergy',\n",
      "       'wavelet-LHL_firstorder_RootMeanSquared',\n",
      "       'wavelet-LHH_glszm_ZoneEntropy', 'wavelet-LLH_gldm_DependenceVariance'],\n",
      "      dtype='object')\n",
      "-------------------------------\n",
      "Job  56  is done\n",
      "Tox study round number \" 57\n",
      "-------------------------------\n",
      "Data splitting ...\n"
     ]
    },
    {
     "name": "stderr",
     "output_type": "stream",
     "text": [
      "/cluster/home/rreiazi/anaconda3/lib/python3.7/site-packages/sklearn/model_selection/_search.py:814: DeprecationWarning: The default of the `iid` parameter will change from True to False in version 0.22 and will be removed in 0.24. This will change numeric results when test-set sizes are unequal.\n",
      "  DeprecationWarning)\n"
     ]
    },
    {
     "name": "stdout",
     "output_type": "stream",
     "text": [
      "train features: Index(['square_glrlm_RunPercentage', 'squareroot_glrlm_ShortRunEmphasis',\n",
      "       'original_gldm_LargeDependenceHighGrayLevelEmphasis',\n",
      "       'wavelet-LHH_glszm_LowGrayLevelZoneEmphasis',\n",
      "       'exponential_glrlm_GrayLevelNonUniformity'],\n",
      "      dtype='object')\n",
      "test features: Index(['square_glrlm_RunPercentage', 'squareroot_glrlm_ShortRunEmphasis',\n",
      "       'original_gldm_LargeDependenceHighGrayLevelEmphasis',\n",
      "       'wavelet-LHH_glszm_LowGrayLevelZoneEmphasis',\n",
      "       'exponential_glrlm_GrayLevelNonUniformity'],\n",
      "      dtype='object')\n",
      "-------------------------------\n",
      "Job  57  is done\n",
      "Tox study round number \" 58\n",
      "-------------------------------\n",
      "Data splitting ...\n"
     ]
    },
    {
     "name": "stderr",
     "output_type": "stream",
     "text": [
      "/cluster/home/rreiazi/anaconda3/lib/python3.7/site-packages/sklearn/model_selection/_search.py:814: DeprecationWarning: The default of the `iid` parameter will change from True to False in version 0.22 and will be removed in 0.24. This will change numeric results when test-set sizes are unequal.\n",
      "  DeprecationWarning)\n"
     ]
    },
    {
     "name": "stdout",
     "output_type": "stream",
     "text": [
      "train features: Index(['log-sigma-3-mm-3D_firstorder_90Percentile', 'lbp-3D-m1_glcm_Id',\n",
      "       'exponential_glcm_JointAverage', 'log-sigma-2-mm-3D_glcm_Imc1',\n",
      "       'wavelet-LHL_firstorder_Energy'],\n",
      "      dtype='object')\n",
      "test features: Index(['log-sigma-3-mm-3D_firstorder_90Percentile', 'lbp-3D-m1_glcm_Id',\n",
      "       'exponential_glcm_JointAverage', 'log-sigma-2-mm-3D_glcm_Imc1',\n",
      "       'wavelet-LHL_firstorder_Energy'],\n",
      "      dtype='object')\n",
      "-------------------------------\n",
      "Job  58  is done\n",
      "Tox study round number \" 59\n",
      "-------------------------------\n",
      "Data splitting ...\n"
     ]
    },
    {
     "name": "stderr",
     "output_type": "stream",
     "text": [
      "/cluster/home/rreiazi/anaconda3/lib/python3.7/site-packages/sklearn/model_selection/_search.py:814: DeprecationWarning: The default of the `iid` parameter will change from True to False in version 0.22 and will be removed in 0.24. This will change numeric results when test-set sizes are unequal.\n",
      "  DeprecationWarning)\n"
     ]
    },
    {
     "name": "stdout",
     "output_type": "stream",
     "text": [
      "train features: Index(['log-sigma-2-mm-3D_glszm_LargeAreaLowGrayLevelEmphasis',\n",
      "       'lbp-3D-m2_firstorder_Skewness', 'logarithm_glrlm_RunEntropy',\n",
      "       'wavelet-LLH_glszm_HighGrayLevelZoneEmphasis',\n",
      "       'wavelet-LHH_gldm_LowGrayLevelEmphasis'],\n",
      "      dtype='object')\n",
      "test features: Index(['log-sigma-2-mm-3D_glszm_LargeAreaLowGrayLevelEmphasis',\n",
      "       'lbp-3D-m2_firstorder_Skewness', 'logarithm_glrlm_RunEntropy',\n",
      "       'wavelet-LLH_glszm_HighGrayLevelZoneEmphasis',\n",
      "       'wavelet-LHH_gldm_LowGrayLevelEmphasis'],\n",
      "      dtype='object')\n",
      "-------------------------------\n",
      "Job  59  is done\n",
      "Tox study round number \" 60\n",
      "-------------------------------\n",
      "Data splitting ...\n"
     ]
    },
    {
     "name": "stderr",
     "output_type": "stream",
     "text": [
      "/cluster/home/rreiazi/anaconda3/lib/python3.7/site-packages/sklearn/model_selection/_search.py:814: DeprecationWarning: The default of the `iid` parameter will change from True to False in version 0.22 and will be removed in 0.24. This will change numeric results when test-set sizes are unequal.\n",
      "  DeprecationWarning)\n"
     ]
    },
    {
     "name": "stdout",
     "output_type": "stream",
     "text": [
      "train features: Index(['wavelet-LHH_glrlm_LongRunLowGrayLevelEmphasis',\n",
      "       'wavelet-LLL_firstorder_Maximum',\n",
      "       'log-sigma-1-mm-3D_glrlm_RunPercentage',\n",
      "       'original_shape_MajorAxisLength', 'wavelet-LLL_glrlm_RunEntropy'],\n",
      "      dtype='object')\n",
      "test features: Index(['wavelet-LHH_glrlm_LongRunLowGrayLevelEmphasis',\n",
      "       'wavelet-LLL_firstorder_Maximum',\n",
      "       'log-sigma-1-mm-3D_glrlm_RunPercentage',\n",
      "       'original_shape_MajorAxisLength', 'wavelet-LLL_glrlm_RunEntropy'],\n",
      "      dtype='object')\n",
      "-------------------------------\n",
      "Job  60  is done\n",
      "Tox study round number \" 61\n",
      "-------------------------------\n",
      "Data splitting ...\n"
     ]
    },
    {
     "name": "stderr",
     "output_type": "stream",
     "text": [
      "/cluster/home/rreiazi/anaconda3/lib/python3.7/site-packages/sklearn/model_selection/_search.py:814: DeprecationWarning: The default of the `iid` parameter will change from True to False in version 0.22 and will be removed in 0.24. This will change numeric results when test-set sizes are unequal.\n",
      "  DeprecationWarning)\n"
     ]
    },
    {
     "name": "stdout",
     "output_type": "stream",
     "text": [
      "train features: Index(['log-sigma-3-mm-3D_glcm_Imc2',\n",
      "       'exponential_gldm_SmallDependenceLowGrayLevelEmphasis',\n",
      "       'log-sigma-3-mm-3D_glszm_HighGrayLevelZoneEmphasis',\n",
      "       'wavelet-LLL_glszm_SizeZoneNonUniformity',\n",
      "       'square_gldm_HighGrayLevelEmphasis'],\n",
      "      dtype='object')\n",
      "test features: Index(['log-sigma-3-mm-3D_glcm_Imc2',\n",
      "       'exponential_gldm_SmallDependenceLowGrayLevelEmphasis',\n",
      "       'log-sigma-3-mm-3D_glszm_HighGrayLevelZoneEmphasis',\n",
      "       'wavelet-LLL_glszm_SizeZoneNonUniformity',\n",
      "       'square_gldm_HighGrayLevelEmphasis'],\n",
      "      dtype='object')\n",
      "-------------------------------\n",
      "Job  61  is done\n",
      "Tox study round number \" 62\n",
      "-------------------------------\n",
      "Data splitting ...\n"
     ]
    },
    {
     "name": "stderr",
     "output_type": "stream",
     "text": [
      "/cluster/home/rreiazi/anaconda3/lib/python3.7/site-packages/sklearn/model_selection/_search.py:814: DeprecationWarning: The default of the `iid` parameter will change from True to False in version 0.22 and will be removed in 0.24. This will change numeric results when test-set sizes are unequal.\n",
      "  DeprecationWarning)\n"
     ]
    },
    {
     "name": "stdout",
     "output_type": "stream",
     "text": [
      "train features: Index(['square_glrlm_ShortRunLowGrayLevelEmphasis',\n",
      "       'lbp-3D-m2_glszm_SmallAreaLowGrayLevelEmphasis',\n",
      "       'wavelet-LHH_glszm_ZonePercentage', 'wavelet-LHH_glcm_Id',\n",
      "       'original_firstorder_MeanAbsoluteDeviation'],\n",
      "      dtype='object')\n",
      "test features: Index(['square_glrlm_ShortRunLowGrayLevelEmphasis',\n",
      "       'lbp-3D-m2_glszm_SmallAreaLowGrayLevelEmphasis',\n",
      "       'wavelet-LHH_glszm_ZonePercentage', 'wavelet-LHH_glcm_Id',\n",
      "       'original_firstorder_MeanAbsoluteDeviation'],\n",
      "      dtype='object')\n",
      "-------------------------------\n",
      "Job  62  is done\n",
      "Tox study round number \" 63\n",
      "-------------------------------\n",
      "Data splitting ...\n"
     ]
    },
    {
     "name": "stderr",
     "output_type": "stream",
     "text": [
      "/cluster/home/rreiazi/anaconda3/lib/python3.7/site-packages/sklearn/model_selection/_search.py:814: DeprecationWarning: The default of the `iid` parameter will change from True to False in version 0.22 and will be removed in 0.24. This will change numeric results when test-set sizes are unequal.\n",
      "  DeprecationWarning)\n"
     ]
    },
    {
     "name": "stdout",
     "output_type": "stream",
     "text": [
      "train features: Index(['gradient_glcm_ClusterShade',\n",
      "       'exponential_glrlm_RunLengthNonUniformity',\n",
      "       'lbp-3D-m1_firstorder_MeanAbsoluteDeviation',\n",
      "       'squareroot_glrlm_RunLengthNonUniformity',\n",
      "       'wavelet-HHH_glcm_ClusterProminence'],\n",
      "      dtype='object')\n",
      "test features: Index(['gradient_glcm_ClusterShade',\n",
      "       'exponential_glrlm_RunLengthNonUniformity',\n",
      "       'lbp-3D-m1_firstorder_MeanAbsoluteDeviation',\n",
      "       'squareroot_glrlm_RunLengthNonUniformity',\n",
      "       'wavelet-HHH_glcm_ClusterProminence'],\n",
      "      dtype='object')\n",
      "-------------------------------\n",
      "Job  63  is done\n",
      "Tox study round number \" 64\n",
      "-------------------------------\n",
      "Data splitting ...\n"
     ]
    },
    {
     "name": "stderr",
     "output_type": "stream",
     "text": [
      "/cluster/home/rreiazi/anaconda3/lib/python3.7/site-packages/sklearn/model_selection/_search.py:814: DeprecationWarning: The default of the `iid` parameter will change from True to False in version 0.22 and will be removed in 0.24. This will change numeric results when test-set sizes are unequal.\n",
      "  DeprecationWarning)\n"
     ]
    },
    {
     "name": "stdout",
     "output_type": "stream",
     "text": [
      "train features: Index(['lbp-3D-m1_firstorder_Entropy', 'wavelet-LLH_glcm_Idn',\n",
      "       'exponential_glrlm_LongRunLowGrayLevelEmphasis',\n",
      "       'wavelet-HLH_glcm_JointAverage',\n",
      "       'lbp-3D-m2_glrlm_RunLengthNonUniformityNormalized'],\n",
      "      dtype='object')\n",
      "test features: Index(['lbp-3D-m1_firstorder_Entropy', 'wavelet-LLH_glcm_Idn',\n",
      "       'exponential_glrlm_LongRunLowGrayLevelEmphasis',\n",
      "       'wavelet-HLH_glcm_JointAverage',\n",
      "       'lbp-3D-m2_glrlm_RunLengthNonUniformityNormalized'],\n",
      "      dtype='object')\n",
      "-------------------------------\n",
      "Job  64  is done\n",
      "Tox study round number \" 65\n",
      "-------------------------------\n",
      "Data splitting ...\n"
     ]
    },
    {
     "name": "stderr",
     "output_type": "stream",
     "text": [
      "/cluster/home/rreiazi/anaconda3/lib/python3.7/site-packages/sklearn/model_selection/_search.py:814: DeprecationWarning: The default of the `iid` parameter will change from True to False in version 0.22 and will be removed in 0.24. This will change numeric results when test-set sizes are unequal.\n",
      "  DeprecationWarning)\n"
     ]
    },
    {
     "name": "stdout",
     "output_type": "stream",
     "text": [
      "train features: Index(['original_glszm_GrayLevelNonUniformity', 'lbp-3D-k_glcm_JointAverage',\n",
      "       'wavelet-LHH_glcm_Imc2', 'wavelet-LLL_gldm_SmallDependenceEmphasis',\n",
      "       'original_glszm_SmallAreaHighGrayLevelEmphasis'],\n",
      "      dtype='object')\n",
      "test features: Index(['original_glszm_GrayLevelNonUniformity', 'lbp-3D-k_glcm_JointAverage',\n",
      "       'wavelet-LHH_glcm_Imc2', 'wavelet-LLL_gldm_SmallDependenceEmphasis',\n",
      "       'original_glszm_SmallAreaHighGrayLevelEmphasis'],\n",
      "      dtype='object')\n",
      "-------------------------------\n",
      "Job  65  is done\n",
      "Tox study round number \" 66\n",
      "-------------------------------\n",
      "Data splitting ...\n"
     ]
    },
    {
     "name": "stderr",
     "output_type": "stream",
     "text": [
      "/cluster/home/rreiazi/anaconda3/lib/python3.7/site-packages/sklearn/model_selection/_search.py:814: DeprecationWarning: The default of the `iid` parameter will change from True to False in version 0.22 and will be removed in 0.24. This will change numeric results when test-set sizes are unequal.\n",
      "  DeprecationWarning)\n"
     ]
    },
    {
     "name": "stdout",
     "output_type": "stream",
     "text": [
      "train features: Index(['wavelet-HLH_glszm_LargeAreaLowGrayLevelEmphasis',\n",
      "       'wavelet-HLL_glrlm_GrayLevelNonUniformityNormalized',\n",
      "       'square_firstorder_InterquartileRange',\n",
      "       'wavelet-HLH_glszm_SmallAreaEmphasis',\n",
      "       'lbp-3D-k_glcm_DifferenceAverage'],\n",
      "      dtype='object')\n",
      "test features: Index(['wavelet-HLH_glszm_LargeAreaLowGrayLevelEmphasis',\n",
      "       'wavelet-HLL_glrlm_GrayLevelNonUniformityNormalized',\n",
      "       'square_firstorder_InterquartileRange',\n",
      "       'wavelet-HLH_glszm_SmallAreaEmphasis',\n",
      "       'lbp-3D-k_glcm_DifferenceAverage'],\n",
      "      dtype='object')\n",
      "-------------------------------\n",
      "Job  66  is done\n",
      "Tox study round number \" 67\n",
      "-------------------------------\n",
      "Data splitting ...\n"
     ]
    },
    {
     "name": "stderr",
     "output_type": "stream",
     "text": [
      "/cluster/home/rreiazi/anaconda3/lib/python3.7/site-packages/sklearn/model_selection/_search.py:814: DeprecationWarning: The default of the `iid` parameter will change from True to False in version 0.22 and will be removed in 0.24. This will change numeric results when test-set sizes are unequal.\n",
      "  DeprecationWarning)\n"
     ]
    },
    {
     "name": "stdout",
     "output_type": "stream",
     "text": [
      "train features: Index(['log-sigma-1-mm-3D_gldm_SmallDependenceLowGrayLevelEmphasis',\n",
      "       'original_glrlm_GrayLevelNonUniformity',\n",
      "       'wavelet-HHH_firstorder_Uniformity',\n",
      "       'squareroot_firstorder_90Percentile',\n",
      "       'log-sigma-2-mm-3D_firstorder_Variance'],\n",
      "      dtype='object')\n",
      "test features: Index(['log-sigma-1-mm-3D_gldm_SmallDependenceLowGrayLevelEmphasis',\n",
      "       'original_glrlm_GrayLevelNonUniformity',\n",
      "       'wavelet-HHH_firstorder_Uniformity',\n",
      "       'squareroot_firstorder_90Percentile',\n",
      "       'log-sigma-2-mm-3D_firstorder_Variance'],\n",
      "      dtype='object')\n",
      "-------------------------------\n",
      "Job  67  is done\n",
      "Tox study round number \" 68\n",
      "-------------------------------\n",
      "Data splitting ...\n"
     ]
    },
    {
     "name": "stderr",
     "output_type": "stream",
     "text": [
      "/cluster/home/rreiazi/anaconda3/lib/python3.7/site-packages/sklearn/model_selection/_search.py:814: DeprecationWarning: The default of the `iid` parameter will change from True to False in version 0.22 and will be removed in 0.24. This will change numeric results when test-set sizes are unequal.\n",
      "  DeprecationWarning)\n"
     ]
    },
    {
     "name": "stdout",
     "output_type": "stream",
     "text": [
      "train features: Index(['wavelet-LHL_glszm_GrayLevelVariance', 'wavelet-HLH_glcm_Correlation',\n",
      "       'wavelet-HLL_glszm_GrayLevelNonUniformityNormalized',\n",
      "       'log-sigma-1-mm-3D_glrlm_ShortRunHighGrayLevelEmphasis',\n",
      "       'wavelet-HHL_glcm_Idm'],\n",
      "      dtype='object')\n",
      "test features: Index(['wavelet-LHL_glszm_GrayLevelVariance', 'wavelet-HLH_glcm_Correlation',\n",
      "       'wavelet-HLL_glszm_GrayLevelNonUniformityNormalized',\n",
      "       'log-sigma-1-mm-3D_glrlm_ShortRunHighGrayLevelEmphasis',\n",
      "       'wavelet-HHL_glcm_Idm'],\n",
      "      dtype='object')\n",
      "-------------------------------\n",
      "Job  68  is done\n",
      "Tox study round number \" 69\n",
      "-------------------------------\n",
      "Data splitting ...\n"
     ]
    },
    {
     "name": "stderr",
     "output_type": "stream",
     "text": [
      "/cluster/home/rreiazi/anaconda3/lib/python3.7/site-packages/sklearn/model_selection/_search.py:814: DeprecationWarning: The default of the `iid` parameter will change from True to False in version 0.22 and will be removed in 0.24. This will change numeric results when test-set sizes are unequal.\n",
      "  DeprecationWarning)\n"
     ]
    },
    {
     "name": "stdout",
     "output_type": "stream",
     "text": [
      "train features: Index(['wavelet-HLL_gldm_DependenceNonUniformity',\n",
      "       'wavelet-HHL_glrlm_RunVariance', 'wavelet-LLL_glcm_Autocorrelation',\n",
      "       'lbp-3D-m1_firstorder_TotalEnergy', 'wavelet-HHH_glcm_Idm'],\n",
      "      dtype='object')\n",
      "test features: Index(['wavelet-HLL_gldm_DependenceNonUniformity',\n",
      "       'wavelet-HHL_glrlm_RunVariance', 'wavelet-LLL_glcm_Autocorrelation',\n",
      "       'lbp-3D-m1_firstorder_TotalEnergy', 'wavelet-HHH_glcm_Idm'],\n",
      "      dtype='object')\n",
      "-------------------------------\n",
      "Job  69  is done\n",
      "Tox study round number \" 70\n",
      "-------------------------------\n",
      "Data splitting ...\n"
     ]
    },
    {
     "name": "stderr",
     "output_type": "stream",
     "text": [
      "/cluster/home/rreiazi/anaconda3/lib/python3.7/site-packages/sklearn/model_selection/_search.py:814: DeprecationWarning: The default of the `iid` parameter will change from True to False in version 0.22 and will be removed in 0.24. This will change numeric results when test-set sizes are unequal.\n",
      "  DeprecationWarning)\n"
     ]
    },
    {
     "name": "stdout",
     "output_type": "stream",
     "text": [
      "train features: Index(['wavelet-HHL_glrlm_LongRunHighGrayLevelEmphasis',\n",
      "       'logarithm_firstorder_Energy', 'wavelet-HHL_glcm_DifferenceEntropy',\n",
      "       'wavelet-HHH_glcm_ClusterTendency', 'lbp-3D-k_glcm_JointEntropy'],\n",
      "      dtype='object')\n",
      "test features: Index(['wavelet-HHL_glrlm_LongRunHighGrayLevelEmphasis',\n",
      "       'logarithm_firstorder_Energy', 'wavelet-HHL_glcm_DifferenceEntropy',\n",
      "       'wavelet-HHH_glcm_ClusterTendency', 'lbp-3D-k_glcm_JointEntropy'],\n",
      "      dtype='object')\n",
      "-------------------------------\n",
      "Job  70  is done\n",
      "Tox study round number \" 71\n",
      "-------------------------------\n",
      "Data splitting ...\n"
     ]
    },
    {
     "name": "stderr",
     "output_type": "stream",
     "text": [
      "/cluster/home/rreiazi/anaconda3/lib/python3.7/site-packages/sklearn/model_selection/_search.py:814: DeprecationWarning: The default of the `iid` parameter will change from True to False in version 0.22 and will be removed in 0.24. This will change numeric results when test-set sizes are unequal.\n",
      "  DeprecationWarning)\n"
     ]
    },
    {
     "name": "stdout",
     "output_type": "stream",
     "text": [
      "train features: Index(['log-sigma-2-mm-3D_glszm_ZoneVariance', 'original_glcm_JointEnergy',\n",
      "       'gradient_glcm_Contrast', 'wavelet-HHL_firstorder_Maximum',\n",
      "       'wavelet-HLH_firstorder_Entropy'],\n",
      "      dtype='object')\n",
      "test features: Index(['log-sigma-2-mm-3D_glszm_ZoneVariance', 'original_glcm_JointEnergy',\n",
      "       'gradient_glcm_Contrast', 'wavelet-HHL_firstorder_Maximum',\n",
      "       'wavelet-HLH_firstorder_Entropy'],\n",
      "      dtype='object')\n",
      "-------------------------------\n",
      "Job  71  is done\n",
      "Tox study round number \" 72\n",
      "-------------------------------\n",
      "Data splitting ...\n"
     ]
    },
    {
     "name": "stderr",
     "output_type": "stream",
     "text": [
      "/cluster/home/rreiazi/anaconda3/lib/python3.7/site-packages/sklearn/model_selection/_search.py:814: DeprecationWarning: The default of the `iid` parameter will change from True to False in version 0.22 and will be removed in 0.24. This will change numeric results when test-set sizes are unequal.\n",
      "  DeprecationWarning)\n"
     ]
    },
    {
     "name": "stdout",
     "output_type": "stream",
     "text": [
      "train features: Index(['lbp-3D-k_firstorder_Maximum',\n",
      "       'wavelet-LHL_glrlm_LowGrayLevelRunEmphasis',\n",
      "       'gradient_glszm_LargeAreaHighGrayLevelEmphasis',\n",
      "       'logarithm_glszm_ZonePercentage',\n",
      "       'square_glszm_HighGrayLevelZoneEmphasis'],\n",
      "      dtype='object')\n",
      "test features: Index(['lbp-3D-k_firstorder_Maximum',\n",
      "       'wavelet-LHL_glrlm_LowGrayLevelRunEmphasis',\n",
      "       'gradient_glszm_LargeAreaHighGrayLevelEmphasis',\n",
      "       'logarithm_glszm_ZonePercentage',\n",
      "       'square_glszm_HighGrayLevelZoneEmphasis'],\n",
      "      dtype='object')\n",
      "-------------------------------\n",
      "Job  72  is done\n",
      "Tox study round number \" 73\n",
      "-------------------------------\n",
      "Data splitting ...\n"
     ]
    },
    {
     "name": "stderr",
     "output_type": "stream",
     "text": [
      "/cluster/home/rreiazi/anaconda3/lib/python3.7/site-packages/sklearn/model_selection/_search.py:814: DeprecationWarning: The default of the `iid` parameter will change from True to False in version 0.22 and will be removed in 0.24. This will change numeric results when test-set sizes are unequal.\n",
      "  DeprecationWarning)\n"
     ]
    },
    {
     "name": "stdout",
     "output_type": "stream",
     "text": [
      "train features: Index(['gradient_glszm_LargeAreaEmphasis',\n",
      "       'wavelet-LHL_glszm_LargeAreaLowGrayLevelEmphasis', 'lbp-3D-k_glcm_Imc2',\n",
      "       'wavelet-LHL_glcm_ClusterTendency', 'lbp-3D-m1_glcm_DifferenceEntropy'],\n",
      "      dtype='object')\n",
      "test features: Index(['gradient_glszm_LargeAreaEmphasis',\n",
      "       'wavelet-LHL_glszm_LargeAreaLowGrayLevelEmphasis', 'lbp-3D-k_glcm_Imc2',\n",
      "       'wavelet-LHL_glcm_ClusterTendency', 'lbp-3D-m1_glcm_DifferenceEntropy'],\n",
      "      dtype='object')\n",
      "-------------------------------\n",
      "Job  73  is done\n",
      "Tox study round number \" 74\n",
      "-------------------------------\n",
      "Data splitting ...\n"
     ]
    },
    {
     "name": "stderr",
     "output_type": "stream",
     "text": [
      "/cluster/home/rreiazi/anaconda3/lib/python3.7/site-packages/sklearn/model_selection/_search.py:814: DeprecationWarning: The default of the `iid` parameter will change from True to False in version 0.22 and will be removed in 0.24. This will change numeric results when test-set sizes are unequal.\n",
      "  DeprecationWarning)\n"
     ]
    },
    {
     "name": "stdout",
     "output_type": "stream",
     "text": [
      "train features: Index(['log-sigma-1-mm-3D_glrlm_ShortRunHighGrayLevelEmphasis',\n",
      "       'squareroot_glcm_DifferenceEntropy', 'lbp-3D-k_gldm_DependenceEntropy',\n",
      "       'gradient_glrlm_LongRunLowGrayLevelEmphasis',\n",
      "       'wavelet-LLL_gldm_DependenceEntropy'],\n",
      "      dtype='object')\n",
      "test features: Index(['log-sigma-1-mm-3D_glrlm_ShortRunHighGrayLevelEmphasis',\n",
      "       'squareroot_glcm_DifferenceEntropy', 'lbp-3D-k_gldm_DependenceEntropy',\n",
      "       'gradient_glrlm_LongRunLowGrayLevelEmphasis',\n",
      "       'wavelet-LLL_gldm_DependenceEntropy'],\n",
      "      dtype='object')\n",
      "-------------------------------\n",
      "Job  74  is done\n",
      "Tox study round number \" 75\n",
      "-------------------------------\n",
      "Data splitting ...\n"
     ]
    },
    {
     "name": "stderr",
     "output_type": "stream",
     "text": [
      "/cluster/home/rreiazi/anaconda3/lib/python3.7/site-packages/sklearn/model_selection/_search.py:814: DeprecationWarning: The default of the `iid` parameter will change from True to False in version 0.22 and will be removed in 0.24. This will change numeric results when test-set sizes are unequal.\n",
      "  DeprecationWarning)\n"
     ]
    },
    {
     "name": "stdout",
     "output_type": "stream",
     "text": [
      "train features: Index(['log-sigma-1-mm-3D_glszm_LowGrayLevelZoneEmphasis',\n",
      "       'original_glrlm_ShortRunEmphasis', 'wavelet-LLH_gldm_GrayLevelVariance',\n",
      "       'wavelet-HLH_glrlm_HighGrayLevelRunEmphasis',\n",
      "       'square_gldm_LowGrayLevelEmphasis'],\n",
      "      dtype='object')\n",
      "test features: Index(['log-sigma-1-mm-3D_glszm_LowGrayLevelZoneEmphasis',\n",
      "       'original_glrlm_ShortRunEmphasis', 'wavelet-LLH_gldm_GrayLevelVariance',\n",
      "       'wavelet-HLH_glrlm_HighGrayLevelRunEmphasis',\n",
      "       'square_gldm_LowGrayLevelEmphasis'],\n",
      "      dtype='object')\n",
      "-------------------------------\n",
      "Job  75  is done\n",
      "Tox study round number \" 76\n",
      "-------------------------------\n",
      "Data splitting ...\n"
     ]
    },
    {
     "name": "stderr",
     "output_type": "stream",
     "text": [
      "/cluster/home/rreiazi/anaconda3/lib/python3.7/site-packages/sklearn/model_selection/_search.py:814: DeprecationWarning: The default of the `iid` parameter will change from True to False in version 0.22 and will be removed in 0.24. This will change numeric results when test-set sizes are unequal.\n",
      "  DeprecationWarning)\n"
     ]
    },
    {
     "name": "stdout",
     "output_type": "stream",
     "text": [
      "train features: Index(['wavelet-LLL_glrlm_ShortRunLowGrayLevelEmphasis',\n",
      "       'log-sigma-3-mm-3D_glszm_ZoneEntropy',\n",
      "       'wavelet-LHH_gldm_LowGrayLevelEmphasis',\n",
      "       'lbp-3D-m1_glcm_DifferenceEntropy', 'squareroot_glcm_InverseVariance'],\n",
      "      dtype='object')\n",
      "test features: Index(['wavelet-LLL_glrlm_ShortRunLowGrayLevelEmphasis',\n",
      "       'log-sigma-3-mm-3D_glszm_ZoneEntropy',\n",
      "       'wavelet-LHH_gldm_LowGrayLevelEmphasis',\n",
      "       'lbp-3D-m1_glcm_DifferenceEntropy', 'squareroot_glcm_InverseVariance'],\n",
      "      dtype='object')\n",
      "-------------------------------\n",
      "Job  76  is done\n",
      "Tox study round number \" 77\n",
      "-------------------------------\n",
      "Data splitting ...\n"
     ]
    },
    {
     "name": "stderr",
     "output_type": "stream",
     "text": [
      "/cluster/home/rreiazi/anaconda3/lib/python3.7/site-packages/sklearn/model_selection/_search.py:814: DeprecationWarning: The default of the `iid` parameter will change from True to False in version 0.22 and will be removed in 0.24. This will change numeric results when test-set sizes are unequal.\n",
      "  DeprecationWarning)\n"
     ]
    },
    {
     "name": "stdout",
     "output_type": "stream",
     "text": [
      "train features: Index(['wavelet-HLL_glrlm_RunLengthNonUniformityNormalized',\n",
      "       'gradient_glszm_LargeAreaHighGrayLevelEmphasis',\n",
      "       'wavelet-LHL_glszm_LowGrayLevelZoneEmphasis',\n",
      "       'gradient_glrlm_ShortRunLowGrayLevelEmphasis',\n",
      "       'wavelet-LLL_glszm_SmallAreaEmphasis'],\n",
      "      dtype='object')\n",
      "test features: Index(['wavelet-HLL_glrlm_RunLengthNonUniformityNormalized',\n",
      "       'gradient_glszm_LargeAreaHighGrayLevelEmphasis',\n",
      "       'wavelet-LHL_glszm_LowGrayLevelZoneEmphasis',\n",
      "       'gradient_glrlm_ShortRunLowGrayLevelEmphasis',\n",
      "       'wavelet-LLL_glszm_SmallAreaEmphasis'],\n",
      "      dtype='object')\n",
      "-------------------------------\n",
      "Job  77  is done\n",
      "Tox study round number \" 78\n",
      "-------------------------------\n",
      "Data splitting ...\n"
     ]
    },
    {
     "name": "stderr",
     "output_type": "stream",
     "text": [
      "/cluster/home/rreiazi/anaconda3/lib/python3.7/site-packages/sklearn/model_selection/_search.py:814: DeprecationWarning: The default of the `iid` parameter will change from True to False in version 0.22 and will be removed in 0.24. This will change numeric results when test-set sizes are unequal.\n",
      "  DeprecationWarning)\n"
     ]
    },
    {
     "name": "stdout",
     "output_type": "stream",
     "text": [
      "train features: Index(['wavelet-HLL_gldm_LowGrayLevelEmphasis',\n",
      "       'wavelet-HLH_gldm_LargeDependenceLowGrayLevelEmphasis',\n",
      "       'gradient_glrlm_GrayLevelVariance',\n",
      "       'log-sigma-1-mm-3D_gldm_LargeDependenceLowGrayLevelEmphasis',\n",
      "       'gradient_glszm_GrayLevelNonUniformity'],\n",
      "      dtype='object')\n",
      "test features: Index(['wavelet-HLL_gldm_LowGrayLevelEmphasis',\n",
      "       'wavelet-HLH_gldm_LargeDependenceLowGrayLevelEmphasis',\n",
      "       'gradient_glrlm_GrayLevelVariance',\n",
      "       'log-sigma-1-mm-3D_gldm_LargeDependenceLowGrayLevelEmphasis',\n",
      "       'gradient_glszm_GrayLevelNonUniformity'],\n",
      "      dtype='object')\n",
      "-------------------------------\n",
      "Job  78  is done\n",
      "Tox study round number \" 79\n",
      "-------------------------------\n",
      "Data splitting ...\n"
     ]
    },
    {
     "name": "stderr",
     "output_type": "stream",
     "text": [
      "/cluster/home/rreiazi/anaconda3/lib/python3.7/site-packages/sklearn/model_selection/_search.py:814: DeprecationWarning: The default of the `iid` parameter will change from True to False in version 0.22 and will be removed in 0.24. This will change numeric results when test-set sizes are unequal.\n",
      "  DeprecationWarning)\n"
     ]
    },
    {
     "name": "stdout",
     "output_type": "stream",
     "text": [
      "train features: Index(['wavelet-LLH_firstorder_TotalEnergy', 'squareroot_glrlm_RunPercentage',\n",
      "       'squareroot_glcm_ClusterTendency',\n",
      "       'exponential_gldm_HighGrayLevelEmphasis',\n",
      "       'wavelet-HHL_glszm_SizeZoneNonUniformity'],\n",
      "      dtype='object')\n",
      "test features: Index(['wavelet-LLH_firstorder_TotalEnergy', 'squareroot_glrlm_RunPercentage',\n",
      "       'squareroot_glcm_ClusterTendency',\n",
      "       'exponential_gldm_HighGrayLevelEmphasis',\n",
      "       'wavelet-HHL_glszm_SizeZoneNonUniformity'],\n",
      "      dtype='object')\n",
      "-------------------------------\n",
      "Job  79  is done\n",
      "Tox study round number \" 80\n",
      "-------------------------------\n",
      "Data splitting ...\n"
     ]
    },
    {
     "name": "stderr",
     "output_type": "stream",
     "text": [
      "/cluster/home/rreiazi/anaconda3/lib/python3.7/site-packages/sklearn/model_selection/_search.py:814: DeprecationWarning: The default of the `iid` parameter will change from True to False in version 0.22 and will be removed in 0.24. This will change numeric results when test-set sizes are unequal.\n",
      "  DeprecationWarning)\n"
     ]
    },
    {
     "name": "stdout",
     "output_type": "stream",
     "text": [
      "train features: Index(['lbp-3D-m2_firstorder_RootMeanSquared',\n",
      "       'wavelet-LLL_glrlm_LongRunEmphasis',\n",
      "       'wavelet-LHH_gldm_SmallDependenceLowGrayLevelEmphasis',\n",
      "       'wavelet-LHL_glcm_DifferenceVariance',\n",
      "       'wavelet-HLH_gldm_GrayLevelNonUniformity'],\n",
      "      dtype='object')\n",
      "test features: Index(['lbp-3D-m2_firstorder_RootMeanSquared',\n",
      "       'wavelet-LLL_glrlm_LongRunEmphasis',\n",
      "       'wavelet-LHH_gldm_SmallDependenceLowGrayLevelEmphasis',\n",
      "       'wavelet-LHL_glcm_DifferenceVariance',\n",
      "       'wavelet-HLH_gldm_GrayLevelNonUniformity'],\n",
      "      dtype='object')\n",
      "-------------------------------\n",
      "Job  80  is done\n",
      "Tox study round number \" 81\n",
      "-------------------------------\n",
      "Data splitting ...\n"
     ]
    },
    {
     "name": "stderr",
     "output_type": "stream",
     "text": [
      "/cluster/home/rreiazi/anaconda3/lib/python3.7/site-packages/sklearn/model_selection/_search.py:814: DeprecationWarning: The default of the `iid` parameter will change from True to False in version 0.22 and will be removed in 0.24. This will change numeric results when test-set sizes are unequal.\n",
      "  DeprecationWarning)\n"
     ]
    },
    {
     "name": "stdout",
     "output_type": "stream",
     "text": [
      "train features: Index(['lbp-3D-m1_glcm_DifferenceEntropy',\n",
      "       'log-sigma-1-mm-3D_glcm_DifferenceVariance',\n",
      "       'wavelet-LHL_glcm_DifferenceEntropy', 'original_glcm_Idn',\n",
      "       'log-sigma-2-mm-3D_glszm_GrayLevelVariance'],\n",
      "      dtype='object')\n",
      "test features: Index(['lbp-3D-m1_glcm_DifferenceEntropy',\n",
      "       'log-sigma-1-mm-3D_glcm_DifferenceVariance',\n",
      "       'wavelet-LHL_glcm_DifferenceEntropy', 'original_glcm_Idn',\n",
      "       'log-sigma-2-mm-3D_glszm_GrayLevelVariance'],\n",
      "      dtype='object')\n",
      "-------------------------------\n",
      "Job  81  is done\n",
      "Tox study round number \" 82\n",
      "-------------------------------\n",
      "Data splitting ...\n"
     ]
    },
    {
     "name": "stderr",
     "output_type": "stream",
     "text": [
      "/cluster/home/rreiazi/anaconda3/lib/python3.7/site-packages/sklearn/model_selection/_search.py:814: DeprecationWarning: The default of the `iid` parameter will change from True to False in version 0.22 and will be removed in 0.24. This will change numeric results when test-set sizes are unequal.\n",
      "  DeprecationWarning)\n"
     ]
    },
    {
     "name": "stdout",
     "output_type": "stream",
     "text": [
      "train features: Index(['lbp-3D-m2_firstorder_MeanAbsoluteDeviation',\n",
      "       'original_shape_Sphericity',\n",
      "       'lbp-3D-m2_glszm_LargeAreaLowGrayLevelEmphasis',\n",
      "       'log-sigma-3-mm-3D_glszm_LargeAreaHighGrayLevelEmphasis',\n",
      "       'wavelet-HLH_glszm_SmallAreaLowGrayLevelEmphasis'],\n",
      "      dtype='object')\n",
      "test features: Index(['lbp-3D-m2_firstorder_MeanAbsoluteDeviation',\n",
      "       'original_shape_Sphericity',\n",
      "       'lbp-3D-m2_glszm_LargeAreaLowGrayLevelEmphasis',\n",
      "       'log-sigma-3-mm-3D_glszm_LargeAreaHighGrayLevelEmphasis',\n",
      "       'wavelet-HLH_glszm_SmallAreaLowGrayLevelEmphasis'],\n",
      "      dtype='object')\n",
      "-------------------------------\n",
      "Job  82  is done\n",
      "Tox study round number \" 83\n",
      "-------------------------------\n",
      "Data splitting ...\n"
     ]
    },
    {
     "name": "stderr",
     "output_type": "stream",
     "text": [
      "/cluster/home/rreiazi/anaconda3/lib/python3.7/site-packages/sklearn/model_selection/_search.py:814: DeprecationWarning: The default of the `iid` parameter will change from True to False in version 0.22 and will be removed in 0.24. This will change numeric results when test-set sizes are unequal.\n",
      "  DeprecationWarning)\n"
     ]
    },
    {
     "name": "stdout",
     "output_type": "stream",
     "text": [
      "train features: Index(['original_glszm_ZonePercentage', 'squareroot_glcm_SumAverage',\n",
      "       'gradient_glrlm_RunEntropy', 'squareroot_firstorder_Median',\n",
      "       'gradient_firstorder_90Percentile'],\n",
      "      dtype='object')\n",
      "test features: Index(['original_glszm_ZonePercentage', 'squareroot_glcm_SumAverage',\n",
      "       'gradient_glrlm_RunEntropy', 'squareroot_firstorder_Median',\n",
      "       'gradient_firstorder_90Percentile'],\n",
      "      dtype='object')\n",
      "-------------------------------\n",
      "Job  83  is done\n",
      "Tox study round number \" 84\n",
      "-------------------------------\n",
      "Data splitting ...\n"
     ]
    },
    {
     "name": "stderr",
     "output_type": "stream",
     "text": [
      "/cluster/home/rreiazi/anaconda3/lib/python3.7/site-packages/sklearn/model_selection/_search.py:814: DeprecationWarning: The default of the `iid` parameter will change from True to False in version 0.22 and will be removed in 0.24. This will change numeric results when test-set sizes are unequal.\n",
      "  DeprecationWarning)\n"
     ]
    },
    {
     "name": "stdout",
     "output_type": "stream",
     "text": [
      "train features: Index(['gradient_gldm_LargeDependenceLowGrayLevelEmphasis',\n",
      "       'lbp-3D-m2_glcm_MCC', 'logarithm_glcm_JointEnergy',\n",
      "       'wavelet-LHL_glszm_GrayLevelNonUniformity',\n",
      "       'exponential_glszm_GrayLevelNonUniformityNormalized'],\n",
      "      dtype='object')\n",
      "test features: Index(['gradient_gldm_LargeDependenceLowGrayLevelEmphasis',\n",
      "       'lbp-3D-m2_glcm_MCC', 'logarithm_glcm_JointEnergy',\n",
      "       'wavelet-LHL_glszm_GrayLevelNonUniformity',\n",
      "       'exponential_glszm_GrayLevelNonUniformityNormalized'],\n",
      "      dtype='object')\n",
      "-------------------------------\n",
      "Job  84  is done\n",
      "Tox study round number \" 85\n",
      "-------------------------------\n",
      "Data splitting ...\n"
     ]
    },
    {
     "name": "stderr",
     "output_type": "stream",
     "text": [
      "/cluster/home/rreiazi/anaconda3/lib/python3.7/site-packages/sklearn/model_selection/_search.py:814: DeprecationWarning: The default of the `iid` parameter will change from True to False in version 0.22 and will be removed in 0.24. This will change numeric results when test-set sizes are unequal.\n",
      "  DeprecationWarning)\n"
     ]
    },
    {
     "name": "stdout",
     "output_type": "stream",
     "text": [
      "train features: Index(['gradient_glrlm_GrayLevelVariance',\n",
      "       'lbp-3D-m1_gldm_DependenceNonUniformity',\n",
      "       'wavelet-LHL_firstorder_Uniformity',\n",
      "       'wavelet-LLL_glrlm_ShortRunHighGrayLevelEmphasis',\n",
      "       'logarithm_firstorder_MeanAbsoluteDeviation'],\n",
      "      dtype='object')\n",
      "test features: Index(['gradient_glrlm_GrayLevelVariance',\n",
      "       'lbp-3D-m1_gldm_DependenceNonUniformity',\n",
      "       'wavelet-LHL_firstorder_Uniformity',\n",
      "       'wavelet-LLL_glrlm_ShortRunHighGrayLevelEmphasis',\n",
      "       'logarithm_firstorder_MeanAbsoluteDeviation'],\n",
      "      dtype='object')\n",
      "-------------------------------\n",
      "Job  85  is done\n",
      "Tox study round number \" 86\n",
      "-------------------------------\n",
      "Data splitting ...\n"
     ]
    },
    {
     "name": "stderr",
     "output_type": "stream",
     "text": [
      "/cluster/home/rreiazi/anaconda3/lib/python3.7/site-packages/sklearn/model_selection/_search.py:814: DeprecationWarning: The default of the `iid` parameter will change from True to False in version 0.22 and will be removed in 0.24. This will change numeric results when test-set sizes are unequal.\n",
      "  DeprecationWarning)\n"
     ]
    },
    {
     "name": "stdout",
     "output_type": "stream",
     "text": [
      "train features: Index(['square_glcm_DifferenceVariance', 'square_gldm_LargeDependenceEmphasis',\n",
      "       'wavelet-LHL_firstorder_10Percentile', 'log-sigma-2-mm-3D_glcm_Imc2',\n",
      "       'wavelet-HHH_glcm_Imc2'],\n",
      "      dtype='object')\n",
      "test features: Index(['square_glcm_DifferenceVariance', 'square_gldm_LargeDependenceEmphasis',\n",
      "       'wavelet-LHL_firstorder_10Percentile', 'log-sigma-2-mm-3D_glcm_Imc2',\n",
      "       'wavelet-HHH_glcm_Imc2'],\n",
      "      dtype='object')\n",
      "-------------------------------\n",
      "Job  86  is done\n",
      "Tox study round number \" 87\n",
      "-------------------------------\n",
      "Data splitting ...\n"
     ]
    },
    {
     "name": "stderr",
     "output_type": "stream",
     "text": [
      "/cluster/home/rreiazi/anaconda3/lib/python3.7/site-packages/sklearn/model_selection/_search.py:814: DeprecationWarning: The default of the `iid` parameter will change from True to False in version 0.22 and will be removed in 0.24. This will change numeric results when test-set sizes are unequal.\n",
      "  DeprecationWarning)\n"
     ]
    },
    {
     "name": "stdout",
     "output_type": "stream",
     "text": [
      "train features: Index(['lbp-3D-k_glrlm_LowGrayLevelRunEmphasis',\n",
      "       'squareroot_glszm_SmallAreaLowGrayLevelEmphasis',\n",
      "       'log-sigma-3-mm-3D_gldm_HighGrayLevelEmphasis',\n",
      "       'lbp-3D-m1_glrlm_HighGrayLevelRunEmphasis',\n",
      "       'wavelet-HLL_glcm_MaximumProbability'],\n",
      "      dtype='object')\n",
      "test features: Index(['lbp-3D-k_glrlm_LowGrayLevelRunEmphasis',\n",
      "       'squareroot_glszm_SmallAreaLowGrayLevelEmphasis',\n",
      "       'log-sigma-3-mm-3D_gldm_HighGrayLevelEmphasis',\n",
      "       'lbp-3D-m1_glrlm_HighGrayLevelRunEmphasis',\n",
      "       'wavelet-HLL_glcm_MaximumProbability'],\n",
      "      dtype='object')\n",
      "-------------------------------\n",
      "Job  87  is done\n",
      "Tox study round number \" 88\n",
      "-------------------------------\n",
      "Data splitting ...\n"
     ]
    },
    {
     "name": "stderr",
     "output_type": "stream",
     "text": [
      "/cluster/home/rreiazi/anaconda3/lib/python3.7/site-packages/sklearn/model_selection/_search.py:814: DeprecationWarning: The default of the `iid` parameter will change from True to False in version 0.22 and will be removed in 0.24. This will change numeric results when test-set sizes are unequal.\n",
      "  DeprecationWarning)\n"
     ]
    },
    {
     "name": "stdout",
     "output_type": "stream",
     "text": [
      "train features: Index(['log-sigma-1-mm-3D_gldm_LargeDependenceEmphasis',\n",
      "       'wavelet-HLL_firstorder_Uniformity', 'wavelet-LHL_glszm_ZonePercentage',\n",
      "       'wavelet-LLL_glcm_Id', 'original_glcm_DifferenceEntropy'],\n",
      "      dtype='object')\n",
      "test features: Index(['log-sigma-1-mm-3D_gldm_LargeDependenceEmphasis',\n",
      "       'wavelet-HLL_firstorder_Uniformity', 'wavelet-LHL_glszm_ZonePercentage',\n",
      "       'wavelet-LLL_glcm_Id', 'original_glcm_DifferenceEntropy'],\n",
      "      dtype='object')\n",
      "-------------------------------\n",
      "Job  88  is done\n",
      "Tox study round number \" 89\n",
      "-------------------------------\n",
      "Data splitting ...\n"
     ]
    },
    {
     "name": "stderr",
     "output_type": "stream",
     "text": [
      "/cluster/home/rreiazi/anaconda3/lib/python3.7/site-packages/sklearn/model_selection/_search.py:814: DeprecationWarning: The default of the `iid` parameter will change from True to False in version 0.22 and will be removed in 0.24. This will change numeric results when test-set sizes are unequal.\n",
      "  DeprecationWarning)\n"
     ]
    },
    {
     "name": "stdout",
     "output_type": "stream",
     "text": [
      "train features: Index(['wavelet-HLL_glcm_MaximumProbability',\n",
      "       'wavelet-LHL_glcm_InverseVariance', 'lbp-3D-k_firstorder_90Percentile',\n",
      "       'square_glszm_LowGrayLevelZoneEmphasis',\n",
      "       'wavelet-HLL_firstorder_Energy'],\n",
      "      dtype='object')\n",
      "test features: Index(['wavelet-HLL_glcm_MaximumProbability',\n",
      "       'wavelet-LHL_glcm_InverseVariance', 'lbp-3D-k_firstorder_90Percentile',\n",
      "       'square_glszm_LowGrayLevelZoneEmphasis',\n",
      "       'wavelet-HLL_firstorder_Energy'],\n",
      "      dtype='object')\n",
      "-------------------------------\n",
      "Job  89  is done\n",
      "Tox study round number \" 90\n",
      "-------------------------------\n",
      "Data splitting ...\n"
     ]
    },
    {
     "name": "stderr",
     "output_type": "stream",
     "text": [
      "/cluster/home/rreiazi/anaconda3/lib/python3.7/site-packages/sklearn/model_selection/_search.py:814: DeprecationWarning: The default of the `iid` parameter will change from True to False in version 0.22 and will be removed in 0.24. This will change numeric results when test-set sizes are unequal.\n",
      "  DeprecationWarning)\n"
     ]
    },
    {
     "name": "stdout",
     "output_type": "stream",
     "text": [
      "train features: Index(['exponential_glcm_MaximumProbability',\n",
      "       'wavelet-HHH_glrlm_ShortRunLowGrayLevelEmphasis',\n",
      "       'log-sigma-1-mm-3D_glcm_JointEnergy',\n",
      "       'wavelet-LLL_firstorder_90Percentile', 'wavelet-LHH_glcm_Imc1'],\n",
      "      dtype='object')\n",
      "test features: Index(['exponential_glcm_MaximumProbability',\n",
      "       'wavelet-HHH_glrlm_ShortRunLowGrayLevelEmphasis',\n",
      "       'log-sigma-1-mm-3D_glcm_JointEnergy',\n",
      "       'wavelet-LLL_firstorder_90Percentile', 'wavelet-LHH_glcm_Imc1'],\n",
      "      dtype='object')\n",
      "-------------------------------\n",
      "Job  90  is done\n",
      "Tox study round number \" 91\n",
      "-------------------------------\n",
      "Data splitting ...\n"
     ]
    },
    {
     "name": "stderr",
     "output_type": "stream",
     "text": [
      "/cluster/home/rreiazi/anaconda3/lib/python3.7/site-packages/sklearn/model_selection/_search.py:814: DeprecationWarning: The default of the `iid` parameter will change from True to False in version 0.22 and will be removed in 0.24. This will change numeric results when test-set sizes are unequal.\n",
      "  DeprecationWarning)\n"
     ]
    },
    {
     "name": "stdout",
     "output_type": "stream",
     "text": [
      "train features: Index(['wavelet-HHL_glszm_LargeAreaHighGrayLevelEmphasis',\n",
      "       'squareroot_glcm_ClusterTendency',\n",
      "       'log-sigma-2-mm-3D_glcm_DifferenceEntropy',\n",
      "       'wavelet-LLL_glszm_SmallAreaLowGrayLevelEmphasis',\n",
      "       'lbp-3D-k_glszm_GrayLevelVariance'],\n",
      "      dtype='object')\n",
      "test features: Index(['wavelet-HHL_glszm_LargeAreaHighGrayLevelEmphasis',\n",
      "       'squareroot_glcm_ClusterTendency',\n",
      "       'log-sigma-2-mm-3D_glcm_DifferenceEntropy',\n",
      "       'wavelet-LLL_glszm_SmallAreaLowGrayLevelEmphasis',\n",
      "       'lbp-3D-k_glszm_GrayLevelVariance'],\n",
      "      dtype='object')\n",
      "-------------------------------\n",
      "Job  91  is done\n",
      "Tox study round number \" 92\n",
      "-------------------------------\n",
      "Data splitting ...\n"
     ]
    },
    {
     "name": "stderr",
     "output_type": "stream",
     "text": [
      "/cluster/home/rreiazi/anaconda3/lib/python3.7/site-packages/sklearn/model_selection/_search.py:814: DeprecationWarning: The default of the `iid` parameter will change from True to False in version 0.22 and will be removed in 0.24. This will change numeric results when test-set sizes are unequal.\n",
      "  DeprecationWarning)\n"
     ]
    },
    {
     "name": "stdout",
     "output_type": "stream",
     "text": [
      "train features: Index(['log-sigma-2-mm-3D_gldm_DependenceVariance',\n",
      "       'original_glszm_SizeZoneNonUniformity',\n",
      "       'gradient_glrlm_ShortRunLowGrayLevelEmphasis',\n",
      "       'log-sigma-2-mm-3D_firstorder_TotalEnergy',\n",
      "       'wavelet-HLL_firstorder_Median'],\n",
      "      dtype='object')\n",
      "test features: Index(['log-sigma-2-mm-3D_gldm_DependenceVariance',\n",
      "       'original_glszm_SizeZoneNonUniformity',\n",
      "       'gradient_glrlm_ShortRunLowGrayLevelEmphasis',\n",
      "       'log-sigma-2-mm-3D_firstorder_TotalEnergy',\n",
      "       'wavelet-HLL_firstorder_Median'],\n",
      "      dtype='object')\n",
      "-------------------------------\n",
      "Job  92  is done\n",
      "Tox study round number \" 93\n",
      "-------------------------------\n",
      "Data splitting ...\n"
     ]
    },
    {
     "name": "stderr",
     "output_type": "stream",
     "text": [
      "/cluster/home/rreiazi/anaconda3/lib/python3.7/site-packages/sklearn/model_selection/_search.py:814: DeprecationWarning: The default of the `iid` parameter will change from True to False in version 0.22 and will be removed in 0.24. This will change numeric results when test-set sizes are unequal.\n",
      "  DeprecationWarning)\n"
     ]
    },
    {
     "name": "stdout",
     "output_type": "stream",
     "text": [
      "train features: Index(['wavelet-HHH_firstorder_Uniformity',\n",
      "       'wavelet-HHH_glszm_LargeAreaLowGrayLevelEmphasis',\n",
      "       'lbp-3D-m2_glrlm_RunEntropy', 'logarithm_glcm_JointEntropy',\n",
      "       'gradient_firstorder_Maximum'],\n",
      "      dtype='object')\n",
      "test features: Index(['wavelet-HHH_firstorder_Uniformity',\n",
      "       'wavelet-HHH_glszm_LargeAreaLowGrayLevelEmphasis',\n",
      "       'lbp-3D-m2_glrlm_RunEntropy', 'logarithm_glcm_JointEntropy',\n",
      "       'gradient_firstorder_Maximum'],\n",
      "      dtype='object')\n",
      "-------------------------------\n",
      "Job  93  is done\n",
      "Tox study round number \" 94\n",
      "-------------------------------\n",
      "Data splitting ...\n"
     ]
    },
    {
     "name": "stderr",
     "output_type": "stream",
     "text": [
      "/cluster/home/rreiazi/anaconda3/lib/python3.7/site-packages/sklearn/model_selection/_search.py:814: DeprecationWarning: The default of the `iid` parameter will change from True to False in version 0.22 and will be removed in 0.24. This will change numeric results when test-set sizes are unequal.\n",
      "  DeprecationWarning)\n"
     ]
    },
    {
     "name": "stdout",
     "output_type": "stream",
     "text": [
      "train features: Index(['original_gldm_GrayLevelVariance', 'wavelet-HLH_firstorder_Entropy',\n",
      "       'lbp-3D-m1_firstorder_Maximum', 'lbp-3D-m2_glszm_SizeZoneNonUniformity',\n",
      "       'log-sigma-3-mm-3D_gldm_DependenceNonUniformityNormalized'],\n",
      "      dtype='object')\n",
      "test features: Index(['original_gldm_GrayLevelVariance', 'wavelet-HLH_firstorder_Entropy',\n",
      "       'lbp-3D-m1_firstorder_Maximum', 'lbp-3D-m2_glszm_SizeZoneNonUniformity',\n",
      "       'log-sigma-3-mm-3D_gldm_DependenceNonUniformityNormalized'],\n",
      "      dtype='object')\n",
      "-------------------------------\n",
      "Job  94  is done\n",
      "Tox study round number \" 95\n",
      "-------------------------------\n",
      "Data splitting ...\n"
     ]
    },
    {
     "name": "stderr",
     "output_type": "stream",
     "text": [
      "/cluster/home/rreiazi/anaconda3/lib/python3.7/site-packages/sklearn/model_selection/_search.py:814: DeprecationWarning: The default of the `iid` parameter will change from True to False in version 0.22 and will be removed in 0.24. This will change numeric results when test-set sizes are unequal.\n",
      "  DeprecationWarning)\n"
     ]
    },
    {
     "name": "stdout",
     "output_type": "stream",
     "text": [
      "train features: Index(['wavelet-HLL_glcm_Idm', 'log-sigma-2-mm-3D_glszm_GrayLevelVariance',\n",
      "       'wavelet-HHH_glrlm_LongRunEmphasis',\n",
      "       'log-sigma-2-mm-3D_glcm_JointAverage',\n",
      "       'wavelet-HHL_firstorder_InterquartileRange'],\n",
      "      dtype='object')\n",
      "test features: Index(['wavelet-HLL_glcm_Idm', 'log-sigma-2-mm-3D_glszm_GrayLevelVariance',\n",
      "       'wavelet-HHH_glrlm_LongRunEmphasis',\n",
      "       'log-sigma-2-mm-3D_glcm_JointAverage',\n",
      "       'wavelet-HHL_firstorder_InterquartileRange'],\n",
      "      dtype='object')\n",
      "-------------------------------\n",
      "Job  95  is done\n",
      "Tox study round number \" 96\n",
      "-------------------------------\n",
      "Data splitting ...\n"
     ]
    },
    {
     "name": "stderr",
     "output_type": "stream",
     "text": [
      "/cluster/home/rreiazi/anaconda3/lib/python3.7/site-packages/sklearn/model_selection/_search.py:814: DeprecationWarning: The default of the `iid` parameter will change from True to False in version 0.22 and will be removed in 0.24. This will change numeric results when test-set sizes are unequal.\n",
      "  DeprecationWarning)\n"
     ]
    },
    {
     "name": "stdout",
     "output_type": "stream",
     "text": [
      "train features: Index(['wavelet-HHL_glcm_Correlation',\n",
      "       'exponential_gldm_LargeDependenceLowGrayLevelEmphasis',\n",
      "       'wavelet-LLH_gldm_LargeDependenceEmphasis',\n",
      "       'log-sigma-2-mm-3D_glrlm_LongRunEmphasis',\n",
      "       'wavelet-LHH_glszm_GrayLevelNonUniformityNormalized'],\n",
      "      dtype='object')\n",
      "test features: Index(['wavelet-HHL_glcm_Correlation',\n",
      "       'exponential_gldm_LargeDependenceLowGrayLevelEmphasis',\n",
      "       'wavelet-LLH_gldm_LargeDependenceEmphasis',\n",
      "       'log-sigma-2-mm-3D_glrlm_LongRunEmphasis',\n",
      "       'wavelet-LHH_glszm_GrayLevelNonUniformityNormalized'],\n",
      "      dtype='object')\n",
      "-------------------------------\n",
      "Job  96  is done\n",
      "Tox study round number \" 97\n",
      "-------------------------------\n",
      "Data splitting ...\n"
     ]
    },
    {
     "name": "stderr",
     "output_type": "stream",
     "text": [
      "/cluster/home/rreiazi/anaconda3/lib/python3.7/site-packages/sklearn/model_selection/_search.py:814: DeprecationWarning: The default of the `iid` parameter will change from True to False in version 0.22 and will be removed in 0.24. This will change numeric results when test-set sizes are unequal.\n",
      "  DeprecationWarning)\n"
     ]
    },
    {
     "name": "stdout",
     "output_type": "stream",
     "text": [
      "train features: Index(['wavelet-LLL_glszm_ZoneVariance',\n",
      "       'original_glszm_LargeAreaHighGrayLevelEmphasis',\n",
      "       'wavelet-LLH_glcm_Correlation', 'wavelet-LHL_glcm_JointAverage',\n",
      "       'wavelet-LHH_glcm_Idn'],\n",
      "      dtype='object')\n",
      "test features: Index(['wavelet-LLL_glszm_ZoneVariance',\n",
      "       'original_glszm_LargeAreaHighGrayLevelEmphasis',\n",
      "       'wavelet-LLH_glcm_Correlation', 'wavelet-LHL_glcm_JointAverage',\n",
      "       'wavelet-LHH_glcm_Idn'],\n",
      "      dtype='object')\n",
      "-------------------------------\n",
      "Job  97  is done\n",
      "Tox study round number \" 98\n",
      "-------------------------------\n",
      "Data splitting ...\n"
     ]
    },
    {
     "name": "stderr",
     "output_type": "stream",
     "text": [
      "/cluster/home/rreiazi/anaconda3/lib/python3.7/site-packages/sklearn/model_selection/_search.py:814: DeprecationWarning: The default of the `iid` parameter will change from True to False in version 0.22 and will be removed in 0.24. This will change numeric results when test-set sizes are unequal.\n",
      "  DeprecationWarning)\n"
     ]
    },
    {
     "name": "stdout",
     "output_type": "stream",
     "text": [
      "train features: Index(['wavelet-HHL_firstorder_Mean',\n",
      "       'squareroot_glrlm_ShortRunLowGrayLevelEmphasis',\n",
      "       'lbp-3D-k_glcm_JointEntropy', 'wavelet-HHL_glcm_Idmn',\n",
      "       'log-sigma-2-mm-3D_firstorder_MeanAbsoluteDeviation'],\n",
      "      dtype='object')\n",
      "test features: Index(['wavelet-HHL_firstorder_Mean',\n",
      "       'squareroot_glrlm_ShortRunLowGrayLevelEmphasis',\n",
      "       'lbp-3D-k_glcm_JointEntropy', 'wavelet-HHL_glcm_Idmn',\n",
      "       'log-sigma-2-mm-3D_firstorder_MeanAbsoluteDeviation'],\n",
      "      dtype='object')\n",
      "-------------------------------\n",
      "Job  98  is done\n",
      "Tox study round number \" 99\n",
      "-------------------------------\n",
      "Data splitting ...\n"
     ]
    },
    {
     "name": "stderr",
     "output_type": "stream",
     "text": [
      "/cluster/home/rreiazi/anaconda3/lib/python3.7/site-packages/sklearn/model_selection/_search.py:814: DeprecationWarning: The default of the `iid` parameter will change from True to False in version 0.22 and will be removed in 0.24. This will change numeric results when test-set sizes are unequal.\n",
      "  DeprecationWarning)\n"
     ]
    },
    {
     "name": "stdout",
     "output_type": "stream",
     "text": [
      "train features: Index(['wavelet-HHH_glszm_GrayLevelVariance',\n",
      "       'original_shape_SurfaceVolumeRatio',\n",
      "       'wavelet-HLL_firstorder_Uniformity',\n",
      "       'log-sigma-3-mm-3D_glrlm_RunLengthNonUniformity',\n",
      "       'lbp-3D-m1_glrlm_GrayLevelNonUniformity'],\n",
      "      dtype='object')\n",
      "test features: Index(['wavelet-HHH_glszm_GrayLevelVariance',\n",
      "       'original_shape_SurfaceVolumeRatio',\n",
      "       'wavelet-HLL_firstorder_Uniformity',\n",
      "       'log-sigma-3-mm-3D_glrlm_RunLengthNonUniformity',\n",
      "       'lbp-3D-m1_glrlm_GrayLevelNonUniformity'],\n",
      "      dtype='object')\n",
      "-------------------------------\n",
      "Job  99  is done\n"
     ]
    }
   ],
   "source": [
    "from sklearn.model_selection import train_test_split\n",
    "from sklearn.utils.random import sample_without_replacement as rsm\n",
    "\n",
    "cl = pd.DataFrame(columns=['fpr','tpr','auc'])\n",
    "\n",
    "\n",
    "data = radioTox_no_da.copy()\n",
    "# data.iloc[:,:-1] =np.random.uniform(-1,1,[radioTox_no_da.shape[0],radioTox_no_da.shape[1]-1])\n",
    "# data = data.sample(10,axis = 1,random_state=1)\n",
    "\n",
    "\n",
    "\n",
    "for i in range(100):  \n",
    "    print('Tox study round number \"',i)\n",
    "    print('-------------------------------')\n",
    "    print('Data splitting ...')\n",
    "    \n",
    "\n",
    "    train, test =train_test_split (data.iloc[rsm(len(data),len(data)*0.8)], test_size=0.25)\n",
    "    \n",
    "#     feat = mrmr_feat (data.loc[train.index],5)\n",
    "\n",
    "#     model = train_model(train[feat],train['tox'])\n",
    "    y_train = train['tox']\n",
    "    train = train.drop(['tox'], axis = 1)\n",
    "    train = train.iloc[:,np.random.randint(1,train.shape[1],5)]\n",
    "                       \n",
    "    model = train_model(train,y_train)\n",
    "    \n",
    "    fpr,tpr,auc = test_model(model, test[train.columns],test['tox'])\n",
    "\n",
    "    \n",
    "    cl = cl.append({'fpr':fpr,'tpr':tpr,'auc':auc}, ignore_index=True)\n",
    "    \n",
    "\n",
    "    print('-------------------------------')\n",
    "    print('Job ', i, ' is done')"
   ]
  },
  {
   "cell_type": "code",
   "execution_count": 84,
   "metadata": {},
   "outputs": [],
   "source": [
    "# cl.to_csv('CL_columnsrand.csv')"
   ]
  },
  {
   "cell_type": "code",
   "execution_count": 125,
   "metadata": {},
   "outputs": [],
   "source": [
    "cl = pd.read_csv('CL1.csv')\n",
    "# cl.to_excel('Toxicity.xlsx')\n",
    "cl.drop(['Unnamed: 0'], axis = 1, inplace = True)"
   ]
  },
  {
   "cell_type": "code",
   "execution_count": 130,
   "metadata": {},
   "outputs": [
    {
     "data": {
      "text/plain": [
       "'[0.         0.         0.         0.02173913 0.02173913 0.04347826\\n 0.04347826 0.08695652 0.08695652 0.15217391 0.15217391 0.17391304\\n 0.17391304 0.2173913  0.2173913  0.23913043 0.23913043 0.26086957\\n 0.26086957 0.30434783 0.30434783 0.32608696 0.32608696 0.43478261\\n 0.43478261 0.45652174 0.45652174 0.5        0.5        0.58695652\\n 0.58695652 0.60869565 0.60869565 0.63043478 0.63043478 0.65217391\\n 0.65217391 0.7173913  0.7173913  0.73913043 0.73913043 0.84782609\\n 0.84782609 0.86956522 0.86956522 0.95652174 0.95652174 0.97826087\\n 0.97826087 1.        ]'"
      ]
     },
     "execution_count": 130,
     "metadata": {},
     "output_type": "execute_result"
    }
   ],
   "source": [
    "cl['fpr'][0]"
   ]
  },
  {
   "cell_type": "code",
   "execution_count": 126,
   "metadata": {},
   "outputs": [],
   "source": [
    "from scipy import interp\n",
    "from sklearn.metrics import auc as auccalc\n",
    "\n",
    "def calc_avg_values(result_table):     \n",
    "    tprs = []\n",
    "    aucs = []\n",
    "    mean_fpr = np.linspace(0, 1, 100)\n",
    "    for i in result_table.index:\n",
    "\n",
    "        interp_tpr = interp(mean_fpr, result_table.loc[i]['fpr'], result_table.loc[i]['tpr'])\n",
    "        interp_tpr[0] = 0.0\n",
    "        tprs.append(interp_tpr)\n",
    "        aucs.append(result_table.loc[i]['auc'])\n",
    "    mean_tpr = np.mean(tprs, axis=0)\n",
    "    mean_tpr[-1] = 1.0\n",
    "    mean_auc = auccalc(mean_fpr, mean_tpr)\n",
    "    std_auc = np.std(aucs)\n",
    "        \n",
    "    return  mean_tpr, mean_fpr, mean_auc, std_auc, tprs"
   ]
  },
  {
   "cell_type": "code",
   "execution_count": 131,
   "metadata": {},
   "outputs": [],
   "source": [
    "def list2float(df,col):\n",
    "    df[col] = df[col].apply(lambda x: x.replace(\"[\", \"\"))\n",
    "    df[col] = df[col].apply(lambda x: x.replace(\"]\", \"\"))\n",
    "    df[col] = df[col].apply(lambda x: x.replace(\"\\n\", \"\"))\n",
    "    df[col] = df[col].apply(lambda x: x.replace(\",\", \"\"))\n",
    "    df[col] = df[col].apply(lambda x: x.replace(\"         \", \" \"))\n",
    "    df[col] = df[col].apply(lambda x: x.replace(\"        \", \" \"))\n",
    "    df[col] = df[col].apply(lambda x: x.replace(\"       \", \" \"))\n",
    "    df[col] = df[col].apply(lambda x: x.replace(\"      \", \" \"))\n",
    "    df[col] = df[col].apply(lambda x: x.replace(\"     \", \" \"))\n",
    "    df[col] = df[col].apply(lambda x: x.replace(\"    \", \" \"))\n",
    "    df[col] = df[col].apply(lambda x: x.replace(\"   \", \" \"))\n",
    "    df[col] = df[col].apply(lambda x: x.replace(\"  \", \" \"))\n",
    "    df[col] = df[col].apply(lambda x: x.split(\" \"))\n",
    "    df[col] = df[col].apply(lambda x: np.array([float(i) for i in x[:-1]]))  \n",
    "    return df[col]"
   ]
  },
  {
   "cell_type": "code",
   "execution_count": 132,
   "metadata": {},
   "outputs": [],
   "source": [
    "def read_convert(path,file):\n",
    "    path = os.path.join(path,file)\n",
    "    df = pd.read_csv(path,usecols = [i for i in range(1,4)])\n",
    "    df['fpr'] = list2float(df,'fpr')\n",
    "    df['tpr'] = list2float(df,'tpr')\n",
    "    df['auc'] = df ['auc']\n",
    "    \n",
    "    return df"
   ]
  },
  {
   "cell_type": "code",
   "execution_count": 135,
   "metadata": {},
   "outputs": [],
   "source": [
    "cl = read_convert('','CL1.csv')['fpr'][0]"
   ]
  },
  {
   "cell_type": "code",
   "execution_count": 136,
   "metadata": {},
   "outputs": [
    {
     "ename": "AttributeError",
     "evalue": "'numpy.ndarray' object has no attribute 'index'",
     "output_type": "error",
     "traceback": [
      "\u001b[0;31m---------------------------------------------------------------------------\u001b[0m",
      "\u001b[0;31mAttributeError\u001b[0m                            Traceback (most recent call last)",
      "\u001b[0;32m<ipython-input-136-15d4c172d96d>\u001b[0m in \u001b[0;36m<module>\u001b[0;34m\u001b[0m\n\u001b[1;32m     13\u001b[0m \u001b[0;34m\u001b[0m\u001b[0m\n\u001b[1;32m     14\u001b[0m \u001b[0;32mfor\u001b[0m \u001b[0mname\u001b[0m\u001b[0;34m,\u001b[0m\u001b[0mfile\u001b[0m \u001b[0;32min\u001b[0m \u001b[0mzip\u001b[0m\u001b[0;34m(\u001b[0m\u001b[0mnames\u001b[0m\u001b[0;34m,\u001b[0m\u001b[0mfiles_3\u001b[0m\u001b[0;34m)\u001b[0m\u001b[0;34m:\u001b[0m\u001b[0;34m\u001b[0m\u001b[0;34m\u001b[0m\u001b[0m\n\u001b[0;32m---> 15\u001b[0;31m     \u001b[0mmean_tpr\u001b[0m\u001b[0;34m,\u001b[0m \u001b[0mmean_fpr\u001b[0m\u001b[0;34m,\u001b[0m \u001b[0mmean_auc\u001b[0m\u001b[0;34m,\u001b[0m \u001b[0mstd_auc\u001b[0m \u001b[0;34m,\u001b[0m\u001b[0mtprs\u001b[0m\u001b[0;34m=\u001b[0m \u001b[0mcalc_avg_values\u001b[0m\u001b[0;34m(\u001b[0m\u001b[0mfile\u001b[0m\u001b[0;34m)\u001b[0m\u001b[0;34m\u001b[0m\u001b[0;34m\u001b[0m\u001b[0m\n\u001b[0m\u001b[1;32m     16\u001b[0m     \u001b[0max\u001b[0m\u001b[0;34m.\u001b[0m\u001b[0mplot\u001b[0m\u001b[0;34m(\u001b[0m\u001b[0mmean_fpr\u001b[0m\u001b[0;34m,\u001b[0m \u001b[0mmean_tpr\u001b[0m\u001b[0;34m,\u001b[0m\u001b[0mlabel\u001b[0m\u001b[0;34m=\u001b[0m\u001b[0;34mr'%s (%0.2f $\\pm$ %0.2f)'\u001b[0m \u001b[0;34m%\u001b[0m \u001b[0;34m(\u001b[0m\u001b[0mname\u001b[0m\u001b[0;34m,\u001b[0m\u001b[0mmean_auc\u001b[0m\u001b[0;34m,\u001b[0m \u001b[0mstd_auc\u001b[0m\u001b[0;34m)\u001b[0m\u001b[0;34m,\u001b[0m\u001b[0mlw\u001b[0m\u001b[0;34m=\u001b[0m\u001b[0;36m2\u001b[0m\u001b[0;34m,\u001b[0m \u001b[0malpha\u001b[0m\u001b[0;34m=\u001b[0m\u001b[0;36m.8\u001b[0m\u001b[0;34m)\u001b[0m\u001b[0;34m\u001b[0m\u001b[0;34m\u001b[0m\u001b[0m\n\u001b[1;32m     17\u001b[0m     \u001b[0mstd_tpr\u001b[0m \u001b[0;34m=\u001b[0m \u001b[0mnp\u001b[0m\u001b[0;34m.\u001b[0m\u001b[0mstd\u001b[0m\u001b[0;34m(\u001b[0m\u001b[0mtprs\u001b[0m\u001b[0;34m,\u001b[0m \u001b[0maxis\u001b[0m\u001b[0;34m=\u001b[0m\u001b[0;36m0\u001b[0m\u001b[0;34m)\u001b[0m\u001b[0;34m\u001b[0m\u001b[0;34m\u001b[0m\u001b[0m\n",
      "\u001b[0;32m<ipython-input-126-243e99efbd00>\u001b[0m in \u001b[0;36mcalc_avg_values\u001b[0;34m(result_table)\u001b[0m\n\u001b[1;32m      6\u001b[0m     \u001b[0maucs\u001b[0m \u001b[0;34m=\u001b[0m \u001b[0;34m[\u001b[0m\u001b[0;34m]\u001b[0m\u001b[0;34m\u001b[0m\u001b[0;34m\u001b[0m\u001b[0m\n\u001b[1;32m      7\u001b[0m     \u001b[0mmean_fpr\u001b[0m \u001b[0;34m=\u001b[0m \u001b[0mnp\u001b[0m\u001b[0;34m.\u001b[0m\u001b[0mlinspace\u001b[0m\u001b[0;34m(\u001b[0m\u001b[0;36m0\u001b[0m\u001b[0;34m,\u001b[0m \u001b[0;36m1\u001b[0m\u001b[0;34m,\u001b[0m \u001b[0;36m100\u001b[0m\u001b[0;34m)\u001b[0m\u001b[0;34m\u001b[0m\u001b[0;34m\u001b[0m\u001b[0m\n\u001b[0;32m----> 8\u001b[0;31m     \u001b[0;32mfor\u001b[0m \u001b[0mi\u001b[0m \u001b[0;32min\u001b[0m \u001b[0mresult_table\u001b[0m\u001b[0;34m.\u001b[0m\u001b[0mindex\u001b[0m\u001b[0;34m:\u001b[0m\u001b[0;34m\u001b[0m\u001b[0;34m\u001b[0m\u001b[0m\n\u001b[0m\u001b[1;32m      9\u001b[0m \u001b[0;34m\u001b[0m\u001b[0m\n\u001b[1;32m     10\u001b[0m         \u001b[0minterp_tpr\u001b[0m \u001b[0;34m=\u001b[0m \u001b[0minterp\u001b[0m\u001b[0;34m(\u001b[0m\u001b[0mmean_fpr\u001b[0m\u001b[0;34m,\u001b[0m \u001b[0mresult_table\u001b[0m\u001b[0;34m.\u001b[0m\u001b[0mloc\u001b[0m\u001b[0;34m[\u001b[0m\u001b[0mi\u001b[0m\u001b[0;34m]\u001b[0m\u001b[0;34m[\u001b[0m\u001b[0;34m'fpr'\u001b[0m\u001b[0;34m]\u001b[0m\u001b[0;34m,\u001b[0m \u001b[0mresult_table\u001b[0m\u001b[0;34m.\u001b[0m\u001b[0mloc\u001b[0m\u001b[0;34m[\u001b[0m\u001b[0mi\u001b[0m\u001b[0;34m]\u001b[0m\u001b[0;34m[\u001b[0m\u001b[0;34m'tpr'\u001b[0m\u001b[0;34m]\u001b[0m\u001b[0;34m)\u001b[0m\u001b[0;34m\u001b[0m\u001b[0;34m\u001b[0m\u001b[0m\n",
      "\u001b[0;31mAttributeError\u001b[0m: 'numpy.ndarray' object has no attribute 'index'"
     ]
    },
    {
     "data": {
      "image/png": "[encoded data removed]",
      "text/plain": [
       "<Figure size 1080x1080 with 1 Axes>"
      ]
     },
     "metadata": {
      "needs_background": "light"
     },
     "output_type": "display_data"
    }
   ],
   "source": [
    "# files_2 = [ge_ge,ge_mix,ge_tosh, mix_ge,mix_mix,mix_tosh,tosh_ge,tosh_mix ,tosh_tosh ]\n",
    "files_3  = [cl]\n",
    "# names = ['Clinical Features', 'Radiomics','Clinical + Radiomics']\n",
    "# names = ['Wavelet features']\n",
    "\n",
    "# names = ['GE-GE','GE-MIX','GE-TOSHIBA','Mix-GE','Mix-Mix','Mix-Toshiba','TOSHIBA-GE','TOSHIBA-Mix','TOSHIBA-TOSHIBA']\n",
    "names = ['Toxicity']\n",
    "fig, ax = plt.subplots(figsize = (15,15))\n",
    "\n",
    "tprs = []\n",
    "aucs = []\n",
    "mean_fpr = np.linspace(0, 1, 100)\n",
    "\n",
    "for name,file in zip(names,files_3):\n",
    "    mean_tpr, mean_fpr, mean_auc, std_auc ,tprs= calc_avg_values(file)\n",
    "    ax.plot(mean_fpr, mean_tpr,label=r'%s (%0.2f $\\pm$ %0.2f)' % (name,mean_auc, std_auc),lw=2, alpha=.8)\n",
    "    std_tpr = np.std(tprs, axis=0)\n",
    "    tprs_upper = np.minimum(mean_tpr + std_tpr, 1)\n",
    "    tprs_lower = np.maximum(mean_tpr - std_tpr, 0)\n",
    "    ax.fill_between(mean_fpr, tprs_lower, tprs_upper, color='grey', alpha=.2)\n",
    "    \n",
    "plt.plot([0, 1], [0, 1], linestyle='--', lw=2, color='r', alpha=.8)    \n",
    "# plt.xticks(np.arange(0.0, 1.1, step=0.1))\n",
    "plt.xticks([])\n",
    "plt.xlabel(\"Flase Positive Rate\", fontsize=20)\n",
    "# plt.yticks(np.arange(0.0, 1.1, step=0.1))\n",
    "plt.yticks([])\n",
    "plt.ylabel(\"True Positive Rate\", fontsize=20)\n",
    "plt.title('Five randombly selected features', fontweight='bold', fontsize=20)\n",
    "plt.legend(prop={'size':15}, loc='lower right')   \n",
    "plt.show()"
   ]
  },
  {
   "cell_type": "code",
   "execution_count": 132,
   "metadata": {},
   "outputs": [
    {
     "data": {
      "text/plain": [
       "900"
      ]
     },
     "execution_count": 132,
     "metadata": {},
     "output_type": "execute_result"
    }
   ],
   "source": [
    "50 * 18"
   ]
  }
 ],
 "metadata": {
  "kernelspec": {
   "display_name": "Python 3",
   "language": "python",
   "name": "python3"
  },
  "language_info": {
   "codemirror_mode": {
    "name": "ipython",
    "version": 3
   },
   "file_extension": ".py",
   "mimetype": "text/x-python",
   "name": "python",
   "nbconvert_exporter": "python",
   "pygments_lexer": "ipython3",
   "version": "3.7.4"
  }
 },
 "nbformat": 4,
 "nbformat_minor": 2
}
